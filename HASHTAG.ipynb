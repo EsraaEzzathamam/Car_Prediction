{
 "cells": [
  {
   "cell_type": "markdown",
   "id": "d9065b37",
   "metadata": {},
   "source": [
    "# Introduction\n",
    "\n",
    "this dataset from https://www.kaggle.com/datasets/deepcontractor/car-price-prediction-challenge\n",
    "\n",
    "# Question\n",
    "### 1-What is the maximum price of a car in the dataset?\n",
    "### 2-What is the minimum price of a car in the dataset?\n",
    "### 3-What is the average price of cars in the dataset?\n",
    "### 4-How many cars have leather interior?\n",
    "### 5-What is the most common category of cars in the dataset?\n",
    "### 6-What is the least common category of cars in the dataset?*\n",
    "### 7-What is the average mileage of cars in the dataset?\n",
    "### 8-What is the maximum engine volume in the dataset?\n",
    "### 9-What is the maximum levy of a car in the dataset?\n",
    "### 10-What is the min levy of a car in the dataset?\n",
    "### 11-What is the average levy of cars in the dataset?\n",
    "### 12-What is the most common manufaeturer of cars in the dataset?\n",
    "### 13-What is the least common manufaeturer of cars in the dataset?*\n",
    "### 14-What is the most common model of cars in the dataset?\n",
    "### 15-What is the least common model of cars in the dataset?\n",
    "### 16-What is the most common wheel of cars in the dataset?\n",
    "### 17-What is the most common model of color in the dataset?\n",
    "### 18-What is the least common model of color in the dataset?\n",
    "### 19-What is the average airbags of cars in the dataset?\n",
    "### 20-What is the most common fuel type of color in the dataset?\n",
    "### 21-What is the least common fuel type of color in the dataset?\n",
    "### 22-What is the average mileage of cars in the dataset?\n",
    "### 23-correlations between engine volem and price\n",
    "### 24-correlations between cylinder and price\n",
    "### 25-correlations between airbagr and price\n",
    "### 26-correlations between drive whells and price\n",
    "### 27-correlations between gear box and price \n",
    "### 28-correlations between mile and price \n",
    "### 29-What is the most common girbox in the dataset?\n",
    "### 30-What is the least common girbox in the dataset\n",
    "### 31-What is the most common drive wheels  in the dataset?\n",
    "### 32-What is the least common drive wheels in the dataset\n",
    "### 33-What is the average engine volume of cars with 4 cylinders?\n",
    "### 34-How many cars have a price higher than the average price in the dataset?\n",
    "### 35-What is the average price of cars with a fuel type of 'Hybrid'?\n",
    "### 36-What is the average price of cars produced after the year 2015?\n",
    "### 37-How many cars have a price between $10,000 and $20,000?\n",
    "### 38-What is the average mileage of cars produced in the year 2018?\n",
    "### 39-What is the average price of cars with a 'Category' value of 'Sedan'?\n",
    "### 40-What is the average price of cars with a 'Drive wheels' value of '4x4'\n",
    "### 41-What is the most common manufacturer for cars with a 'Category' value of 'Hatchback'?\n",
    "### 42-What is the average price of cars with a 'Model' value of 'Corolla'?\n",
    "### 43-What is the average mileage of cars with a 'Category' value of 'jeep'?\n",
    "### 44-What is the average price of cars with a 'Manufacturer' of 'Lexus' and 'Engine volume' greater than 3.5?\n",
    "### 45-How many cars have a 'Category' of 'Hatchback' and 'Airbags' greater than 4?\n",
    "### 46-What is the average mileage of cars with a 'Manufacturer' of 'Honda' and 'Model' of 'Civic'?\n",
    "### 47-How many cars have a 'Manufacturer' of 'Ford' and 'Airbags' less than or equal to 4?"
   ]
  },
  {
   "cell_type": "markdown",
   "id": "117ff1e1",
   "metadata": {},
   "source": [
    "# Import library"
   ]
  },
  {
   "cell_type": "code",
   "execution_count": 84,
   "id": "38c3e926",
   "metadata": {},
   "outputs": [],
   "source": [
    "import numpy as np\n",
    "import pandas as pd\n",
    "import matplotlib.pyplot as plt \n",
    "import seaborn as sns\n",
    "import copy\n",
    "import math\n",
    "from pandas.plotting import scatter_matrix"
   ]
  },
  {
   "cell_type": "code",
   "execution_count": 85,
   "id": "54efd450",
   "metadata": {},
   "outputs": [
    {
     "data": {
      "text/html": [
       "<div>\n",
       "<style scoped>\n",
       "    .dataframe tbody tr th:only-of-type {\n",
       "        vertical-align: middle;\n",
       "    }\n",
       "\n",
       "    .dataframe tbody tr th {\n",
       "        vertical-align: top;\n",
       "    }\n",
       "\n",
       "    .dataframe thead th {\n",
       "        text-align: right;\n",
       "    }\n",
       "</style>\n",
       "<table border=\"1\" class=\"dataframe\">\n",
       "  <thead>\n",
       "    <tr style=\"text-align: right;\">\n",
       "      <th></th>\n",
       "      <th>ID</th>\n",
       "      <th>Price</th>\n",
       "      <th>Levy</th>\n",
       "      <th>Manufacturer</th>\n",
       "      <th>Model</th>\n",
       "      <th>Prod. year</th>\n",
       "      <th>Category</th>\n",
       "      <th>Leather interior</th>\n",
       "      <th>Fuel type</th>\n",
       "      <th>Engine volume</th>\n",
       "      <th>Mileage</th>\n",
       "      <th>Cylinders</th>\n",
       "      <th>Gear box type</th>\n",
       "      <th>Drive wheels</th>\n",
       "      <th>Doors</th>\n",
       "      <th>Wheel</th>\n",
       "      <th>Color</th>\n",
       "      <th>Airbags</th>\n",
       "      <th>has_turbo</th>\n",
       "    </tr>\n",
       "  </thead>\n",
       "  <tbody>\n",
       "    <tr>\n",
       "      <th>0</th>\n",
       "      <td>45654403</td>\n",
       "      <td>13328</td>\n",
       "      <td>1399.000000</td>\n",
       "      <td>LEXUS</td>\n",
       "      <td>RX 450</td>\n",
       "      <td>2010</td>\n",
       "      <td>Jeep</td>\n",
       "      <td>Yes</td>\n",
       "      <td>Hybrid</td>\n",
       "      <td>3.5</td>\n",
       "      <td>186005</td>\n",
       "      <td>6</td>\n",
       "      <td>Automatic</td>\n",
       "      <td>4x4</td>\n",
       "      <td>4</td>\n",
       "      <td>Left wheel</td>\n",
       "      <td>Silver</td>\n",
       "      <td>12</td>\n",
       "      <td>False</td>\n",
       "    </tr>\n",
       "    <tr>\n",
       "      <th>1</th>\n",
       "      <td>44731507</td>\n",
       "      <td>16621</td>\n",
       "      <td>1018.000000</td>\n",
       "      <td>CHEVROLET</td>\n",
       "      <td>Equinox</td>\n",
       "      <td>2011</td>\n",
       "      <td>Jeep</td>\n",
       "      <td>No</td>\n",
       "      <td>Petrol</td>\n",
       "      <td>3.0</td>\n",
       "      <td>192000</td>\n",
       "      <td>6</td>\n",
       "      <td>Tiptronic</td>\n",
       "      <td>4x4</td>\n",
       "      <td>4</td>\n",
       "      <td>Left wheel</td>\n",
       "      <td>Black</td>\n",
       "      <td>8</td>\n",
       "      <td>False</td>\n",
       "    </tr>\n",
       "    <tr>\n",
       "      <th>2</th>\n",
       "      <td>45774419</td>\n",
       "      <td>8467</td>\n",
       "      <td>906.299205</td>\n",
       "      <td>HONDA</td>\n",
       "      <td>FIT</td>\n",
       "      <td>2006</td>\n",
       "      <td>Hatchback</td>\n",
       "      <td>No</td>\n",
       "      <td>Petrol</td>\n",
       "      <td>1.3</td>\n",
       "      <td>200000</td>\n",
       "      <td>4</td>\n",
       "      <td>Variator</td>\n",
       "      <td>Front</td>\n",
       "      <td>4</td>\n",
       "      <td>Right-hand drive</td>\n",
       "      <td>Black</td>\n",
       "      <td>2</td>\n",
       "      <td>False</td>\n",
       "    </tr>\n",
       "    <tr>\n",
       "      <th>3</th>\n",
       "      <td>45769185</td>\n",
       "      <td>3607</td>\n",
       "      <td>862.000000</td>\n",
       "      <td>FORD</td>\n",
       "      <td>Escape</td>\n",
       "      <td>2011</td>\n",
       "      <td>Jeep</td>\n",
       "      <td>Yes</td>\n",
       "      <td>Hybrid</td>\n",
       "      <td>2.5</td>\n",
       "      <td>168966</td>\n",
       "      <td>4</td>\n",
       "      <td>Automatic</td>\n",
       "      <td>4x4</td>\n",
       "      <td>4</td>\n",
       "      <td>Left wheel</td>\n",
       "      <td>White</td>\n",
       "      <td>0</td>\n",
       "      <td>False</td>\n",
       "    </tr>\n",
       "    <tr>\n",
       "      <th>4</th>\n",
       "      <td>45809263</td>\n",
       "      <td>11726</td>\n",
       "      <td>446.000000</td>\n",
       "      <td>HONDA</td>\n",
       "      <td>FIT</td>\n",
       "      <td>2014</td>\n",
       "      <td>Hatchback</td>\n",
       "      <td>Yes</td>\n",
       "      <td>Petrol</td>\n",
       "      <td>1.3</td>\n",
       "      <td>91901</td>\n",
       "      <td>4</td>\n",
       "      <td>Automatic</td>\n",
       "      <td>Front</td>\n",
       "      <td>4</td>\n",
       "      <td>Left wheel</td>\n",
       "      <td>Silver</td>\n",
       "      <td>4</td>\n",
       "      <td>False</td>\n",
       "    </tr>\n",
       "    <tr>\n",
       "      <th>...</th>\n",
       "      <td>...</td>\n",
       "      <td>...</td>\n",
       "      <td>...</td>\n",
       "      <td>...</td>\n",
       "      <td>...</td>\n",
       "      <td>...</td>\n",
       "      <td>...</td>\n",
       "      <td>...</td>\n",
       "      <td>...</td>\n",
       "      <td>...</td>\n",
       "      <td>...</td>\n",
       "      <td>...</td>\n",
       "      <td>...</td>\n",
       "      <td>...</td>\n",
       "      <td>...</td>\n",
       "      <td>...</td>\n",
       "      <td>...</td>\n",
       "      <td>...</td>\n",
       "      <td>...</td>\n",
       "    </tr>\n",
       "    <tr>\n",
       "      <th>16356</th>\n",
       "      <td>45772306</td>\n",
       "      <td>5802</td>\n",
       "      <td>1055.000000</td>\n",
       "      <td>MERCEDES-BENZ</td>\n",
       "      <td>E 350</td>\n",
       "      <td>2013</td>\n",
       "      <td>Sedan</td>\n",
       "      <td>Yes</td>\n",
       "      <td>Diesel</td>\n",
       "      <td>3.5</td>\n",
       "      <td>107800</td>\n",
       "      <td>6</td>\n",
       "      <td>Automatic</td>\n",
       "      <td>Rear</td>\n",
       "      <td>4</td>\n",
       "      <td>Left wheel</td>\n",
       "      <td>Grey</td>\n",
       "      <td>12</td>\n",
       "      <td>False</td>\n",
       "    </tr>\n",
       "    <tr>\n",
       "      <th>16357</th>\n",
       "      <td>45778856</td>\n",
       "      <td>15681</td>\n",
       "      <td>831.000000</td>\n",
       "      <td>HYUNDAI</td>\n",
       "      <td>Sonata</td>\n",
       "      <td>2011</td>\n",
       "      <td>Sedan</td>\n",
       "      <td>Yes</td>\n",
       "      <td>Petrol</td>\n",
       "      <td>2.4</td>\n",
       "      <td>161600</td>\n",
       "      <td>4</td>\n",
       "      <td>Tiptronic</td>\n",
       "      <td>Front</td>\n",
       "      <td>4</td>\n",
       "      <td>Left wheel</td>\n",
       "      <td>Red</td>\n",
       "      <td>8</td>\n",
       "      <td>False</td>\n",
       "    </tr>\n",
       "    <tr>\n",
       "      <th>16358</th>\n",
       "      <td>45804997</td>\n",
       "      <td>26108</td>\n",
       "      <td>836.000000</td>\n",
       "      <td>HYUNDAI</td>\n",
       "      <td>Tucson</td>\n",
       "      <td>2010</td>\n",
       "      <td>Jeep</td>\n",
       "      <td>Yes</td>\n",
       "      <td>Diesel</td>\n",
       "      <td>2.0</td>\n",
       "      <td>116365</td>\n",
       "      <td>4</td>\n",
       "      <td>Automatic</td>\n",
       "      <td>Front</td>\n",
       "      <td>4</td>\n",
       "      <td>Left wheel</td>\n",
       "      <td>Grey</td>\n",
       "      <td>4</td>\n",
       "      <td>False</td>\n",
       "    </tr>\n",
       "    <tr>\n",
       "      <th>16359</th>\n",
       "      <td>45793526</td>\n",
       "      <td>5331</td>\n",
       "      <td>1288.000000</td>\n",
       "      <td>CHEVROLET</td>\n",
       "      <td>Captiva</td>\n",
       "      <td>2007</td>\n",
       "      <td>Jeep</td>\n",
       "      <td>Yes</td>\n",
       "      <td>Diesel</td>\n",
       "      <td>2.0</td>\n",
       "      <td>51258</td>\n",
       "      <td>4</td>\n",
       "      <td>Automatic</td>\n",
       "      <td>Front</td>\n",
       "      <td>4</td>\n",
       "      <td>Left wheel</td>\n",
       "      <td>Black</td>\n",
       "      <td>4</td>\n",
       "      <td>False</td>\n",
       "    </tr>\n",
       "    <tr>\n",
       "      <th>16360</th>\n",
       "      <td>45813273</td>\n",
       "      <td>470</td>\n",
       "      <td>753.000000</td>\n",
       "      <td>HYUNDAI</td>\n",
       "      <td>Sonata</td>\n",
       "      <td>2012</td>\n",
       "      <td>Sedan</td>\n",
       "      <td>Yes</td>\n",
       "      <td>Hybrid</td>\n",
       "      <td>2.4</td>\n",
       "      <td>186923</td>\n",
       "      <td>4</td>\n",
       "      <td>Automatic</td>\n",
       "      <td>Front</td>\n",
       "      <td>4</td>\n",
       "      <td>Left wheel</td>\n",
       "      <td>White</td>\n",
       "      <td>12</td>\n",
       "      <td>False</td>\n",
       "    </tr>\n",
       "  </tbody>\n",
       "</table>\n",
       "<p>16361 rows × 19 columns</p>\n",
       "</div>"
      ],
      "text/plain": [
       "             ID  Price         Levy   Manufacturer    Model  Prod. year  \\\n",
       "0      45654403  13328  1399.000000          LEXUS   RX 450        2010   \n",
       "1      44731507  16621  1018.000000      CHEVROLET  Equinox        2011   \n",
       "2      45774419   8467   906.299205          HONDA      FIT        2006   \n",
       "3      45769185   3607   862.000000           FORD   Escape        2011   \n",
       "4      45809263  11726   446.000000          HONDA      FIT        2014   \n",
       "...         ...    ...          ...            ...      ...         ...   \n",
       "16356  45772306   5802  1055.000000  MERCEDES-BENZ    E 350        2013   \n",
       "16357  45778856  15681   831.000000        HYUNDAI   Sonata        2011   \n",
       "16358  45804997  26108   836.000000        HYUNDAI   Tucson        2010   \n",
       "16359  45793526   5331  1288.000000      CHEVROLET  Captiva        2007   \n",
       "16360  45813273    470   753.000000        HYUNDAI   Sonata        2012   \n",
       "\n",
       "        Category Leather interior Fuel type  Engine volume  Mileage  \\\n",
       "0           Jeep              Yes    Hybrid            3.5   186005   \n",
       "1           Jeep               No    Petrol            3.0   192000   \n",
       "2      Hatchback               No    Petrol            1.3   200000   \n",
       "3           Jeep              Yes    Hybrid            2.5   168966   \n",
       "4      Hatchback              Yes    Petrol            1.3    91901   \n",
       "...          ...              ...       ...            ...      ...   \n",
       "16356      Sedan              Yes    Diesel            3.5   107800   \n",
       "16357      Sedan              Yes    Petrol            2.4   161600   \n",
       "16358       Jeep              Yes    Diesel            2.0   116365   \n",
       "16359       Jeep              Yes    Diesel            2.0    51258   \n",
       "16360      Sedan              Yes    Hybrid            2.4   186923   \n",
       "\n",
       "       Cylinders Gear box type Drive wheels  Doors             Wheel   Color  \\\n",
       "0              6     Automatic          4x4      4        Left wheel  Silver   \n",
       "1              6     Tiptronic          4x4      4        Left wheel   Black   \n",
       "2              4      Variator        Front      4  Right-hand drive   Black   \n",
       "3              4     Automatic          4x4      4        Left wheel   White   \n",
       "4              4     Automatic        Front      4        Left wheel  Silver   \n",
       "...          ...           ...          ...    ...               ...     ...   \n",
       "16356          6     Automatic         Rear      4        Left wheel    Grey   \n",
       "16357          4     Tiptronic        Front      4        Left wheel     Red   \n",
       "16358          4     Automatic        Front      4        Left wheel    Grey   \n",
       "16359          4     Automatic        Front      4        Left wheel   Black   \n",
       "16360          4     Automatic        Front      4        Left wheel   White   \n",
       "\n",
       "       Airbags  has_turbo  \n",
       "0           12      False  \n",
       "1            8      False  \n",
       "2            2      False  \n",
       "3            0      False  \n",
       "4            4      False  \n",
       "...        ...        ...  \n",
       "16356       12      False  \n",
       "16357        8      False  \n",
       "16358        4      False  \n",
       "16359        4      False  \n",
       "16360       12      False  \n",
       "\n",
       "[16361 rows x 19 columns]"
      ]
     },
     "execution_count": 85,
     "metadata": {},
     "output_type": "execute_result"
    }
   ],
   "source": [
    "data = pd.read_csv('car_price_prediction.csv')\n",
    "data"
   ]
  },
  {
   "cell_type": "code",
   "execution_count": 86,
   "id": "7c632cda",
   "metadata": {},
   "outputs": [
    {
     "name": "stdout",
     "output_type": "stream",
     "text": [
      "<class 'pandas.core.frame.DataFrame'>\n",
      "RangeIndex: 16361 entries, 0 to 16360\n",
      "Data columns (total 19 columns):\n",
      " #   Column            Non-Null Count  Dtype  \n",
      "---  ------            --------------  -----  \n",
      " 0   ID                16361 non-null  int64  \n",
      " 1   Price             16361 non-null  int64  \n",
      " 2   Levy              16361 non-null  float64\n",
      " 3   Manufacturer      16361 non-null  object \n",
      " 4   Model             16361 non-null  object \n",
      " 5   Prod. year        16361 non-null  int64  \n",
      " 6   Category          16361 non-null  object \n",
      " 7   Leather interior  16361 non-null  object \n",
      " 8   Fuel type         16361 non-null  object \n",
      " 9   Engine volume     16361 non-null  float64\n",
      " 10  Mileage           16361 non-null  int64  \n",
      " 11  Cylinders         16361 non-null  int64  \n",
      " 12  Gear box type     16361 non-null  object \n",
      " 13  Drive wheels      16361 non-null  object \n",
      " 14  Doors             16361 non-null  int64  \n",
      " 15  Wheel             16361 non-null  object \n",
      " 16  Color             16361 non-null  object \n",
      " 17  Airbags           16361 non-null  int64  \n",
      " 18  has_turbo         16361 non-null  bool   \n",
      "dtypes: bool(1), float64(2), int64(7), object(9)\n",
      "memory usage: 2.3+ MB\n"
     ]
    }
   ],
   "source": [
    "data.info()"
   ]
  },
  {
   "cell_type": "code",
   "execution_count": 87,
   "id": "0d7b6f75",
   "metadata": {},
   "outputs": [
    {
     "data": {
      "text/plain": [
       "ID                  0\n",
       "Price               0\n",
       "Levy                0\n",
       "Manufacturer        0\n",
       "Model               0\n",
       "Prod. year          0\n",
       "Category            0\n",
       "Leather interior    0\n",
       "Fuel type           0\n",
       "Engine volume       0\n",
       "Mileage             0\n",
       "Cylinders           0\n",
       "Gear box type       0\n",
       "Drive wheels        0\n",
       "Doors               0\n",
       "Wheel               0\n",
       "Color               0\n",
       "Airbags             0\n",
       "has_turbo           0\n",
       "dtype: int64"
      ]
     },
     "execution_count": 87,
     "metadata": {},
     "output_type": "execute_result"
    }
   ],
   "source": [
    "data.isnull().sum()"
   ]
  },
  {
   "cell_type": "markdown",
   "id": "a8611454",
   "metadata": {},
   "source": [
    "## Handling Duplicating"
   ]
  },
  {
   "cell_type": "code",
   "execution_count": 88,
   "id": "de606119",
   "metadata": {},
   "outputs": [
    {
     "data": {
      "text/plain": [
       "(16361, 19)"
      ]
     },
     "execution_count": 88,
     "metadata": {},
     "output_type": "execute_result"
    }
   ],
   "source": [
    "data.shape"
   ]
  },
  {
   "cell_type": "code",
   "execution_count": 89,
   "id": "7e12109d",
   "metadata": {},
   "outputs": [],
   "source": [
    "data.drop_duplicates(inplace=True)"
   ]
  },
  {
   "cell_type": "code",
   "execution_count": 90,
   "id": "dfe2d002",
   "metadata": {},
   "outputs": [
    {
     "data": {
      "text/plain": [
       "(16361, 19)"
      ]
     },
     "execution_count": 90,
     "metadata": {},
     "output_type": "execute_result"
    }
   ],
   "source": [
    "data.shape"
   ]
  },
  {
   "cell_type": "code",
   "execution_count": 91,
   "id": "cd2d08e2",
   "metadata": {},
   "outputs": [
    {
     "data": {
      "text/plain": [
       "0"
      ]
     },
     "execution_count": 91,
     "metadata": {},
     "output_type": "execute_result"
    }
   ],
   "source": [
    "data.duplicated().sum()"
   ]
  },
  {
   "cell_type": "markdown",
   "id": "6252bba5",
   "metadata": {},
   "source": [
    "# Exploring my column"
   ]
  },
  {
   "cell_type": "code",
   "execution_count": 92,
   "id": "734b8821",
   "metadata": {},
   "outputs": [
    {
     "data": {
      "text/plain": [
       "array([13328, 16621,  8467, ..., 17042, 18779, 22075])"
      ]
     },
     "execution_count": 92,
     "metadata": {},
     "output_type": "execute_result"
    }
   ],
   "source": [
    "data['Price'].unique()"
   ]
  },
  {
   "cell_type": "code",
   "execution_count": 93,
   "id": "9288ce85",
   "metadata": {},
   "outputs": [
    {
     "data": {
      "text/plain": [
       "array([ 1399.        ,  1018.        ,   906.29920545,   862.        ,\n",
       "         446.        ,   891.        ,   761.        ,   751.        ,\n",
       "        1053.        ,  1055.        ,  1079.        ,   810.        ,\n",
       "        2386.        ,  1850.        ,   531.        ,   586.        ,\n",
       "        1249.        ,  2455.        ,   583.        ,  1288.        ,\n",
       "         915.        ,  1750.        ,   707.        ,  1486.        ,\n",
       "        1091.        ,   650.        ,   382.        ,  1436.        ,\n",
       "        1194.        ,   503.        ,  1104.        ,  1017.        ,\n",
       "         639.        ,   629.        ,   919.        ,   781.        ,\n",
       "         530.        ,   640.        ,   777.        ,   779.        ,\n",
       "         934.        ,   769.        ,   645.        ,  1185.        ,\n",
       "        1324.        ,   830.        ,  1187.        ,  1111.        ,\n",
       "         760.        ,   642.        ,  1095.        ,   966.        ,\n",
       "         473.        ,  1138.        ,  1811.        ,   988.        ,\n",
       "         765.        ,   917.        ,   687.        , 11714.        ,\n",
       "         836.        ,  1537.        ,   394.        ,  1347.        ,\n",
       "        2866.        ,  1646.        ,   259.        ,   609.        ,\n",
       "         697.        ,   585.        ,   475.        ,   690.        ,\n",
       "         308.        ,  1823.        ,  1361.        ,  1273.        ,\n",
       "         924.        ,  1077.        ,   584.        ,  2078.        ,\n",
       "         831.        ,  1172.        ,   893.        ,  1872.        ,\n",
       "        1266.        ,   447.        ,  2148.        ,  1730.        ,\n",
       "         730.        ,   289.        ,   502.        ,   333.        ,\n",
       "        1325.        ,   247.        ,  1598.        ,  1514.        ,\n",
       "        1058.        ,   738.        ,  1935.        ,   481.        ,\n",
       "        1522.        ,  1282.        ,   456.        ,   880.        ,\n",
       "         900.        ,   798.        ,  1277.        ,   442.        ,\n",
       "        1051.        ,   790.        ,  1292.        ,  1047.        ,\n",
       "         528.        ,  1211.        ,  1493.        ,  1793.        ,\n",
       "         574.        ,  1998.        ,   271.        ,   706.        ,\n",
       "        1481.        ,  1677.        ,  1661.        ,  1286.        ,\n",
       "        1408.        ,  1090.        ,   595.        ,  1451.        ,\n",
       "        1267.        ,   993.        ,  1714.        ,   878.        ,\n",
       "         641.        ,   749.        ,  1511.        ,   603.        ,\n",
       "         353.        ,   877.        ,  1236.        ,  1141.        ,\n",
       "         397.        ,   784.        ,  1024.        ,  1357.        ,\n",
       "         922.        ,  1438.        ,   753.        ,  1363.        ,\n",
       "         638.        ,   490.        ,   431.        ,   565.        ,\n",
       "         517.        ,   833.        ,   489.        ,   986.        ,\n",
       "        1620.        ,   474.        ,  1099.        ,   978.        ,\n",
       "        1624.        ,  1946.        ,  1268.        ,  1307.        ,\n",
       "         770.        ,   649.        ,  2151.        ,   551.        ,\n",
       "         607.        ,   800.        ,   971.        ,  1323.        ,\n",
       "        2377.        ,  1845.        ,  1083.        ,   694.        ,\n",
       "         463.        ,   419.        ,  1360.        ,   345.        ,\n",
       "        1515.        ,  1505.        ,  2056.        ,  1203.        ,\n",
       "         729.        ,   460.        ,   876.        ,   911.        ,\n",
       "        1190.        ,   780.        ,   448.        ,  2410.        ,\n",
       "        1148.        ,   834.        ,  1275.        ,  1028.        ,\n",
       "        1327.        ,  1197.        ,   724.        ,   890.        ,\n",
       "         696.        ,  1705.        ,   505.        ,   789.        ,\n",
       "        2959.        ,   518.        ,   461.        ,  2858.        ,\n",
       "        3156.        ,  2225.        ,  2177.        ,  1888.        ,\n",
       "        1308.        ,  1356.        ,  2736.        ,  1103.        ,\n",
       "         557.        ,  2195.        ,   843.        ,  1664.        ,\n",
       "         723.        ,  4508.        ,   562.        ,   501.        ,\n",
       "        2018.        ,  1202.        ,   691.        ,  1440.        ,\n",
       "        1869.        ,   418.        ,  1820.        ,  1413.        ,\n",
       "         488.        ,  1304.        ,   363.        ,  2108.        ,\n",
       "         521.        ,  1659.        ,  1411.        ,  1528.        ,\n",
       "        7058.        ,  1578.        ,   627.        ,   874.        ,\n",
       "        1996.        ,  1488.        ,  1234.        ,  5603.        ,\n",
       "         400.        ,   889.        ,   875.        ,   949.        ,\n",
       "        1604.        ,  1760.        ,  2265.        ,   441.        ,\n",
       "         742.        ,   425.        ,  2476.        ,   614.        ,\n",
       "        1816.        ,  1375.        ,  1405.        ,  2297.        ,\n",
       "        1062.        ,  1113.        ,   420.        ,  2469.        ,\n",
       "         658.        ,  2670.        ,  1995.        ,  1032.        ,\n",
       "        1301.        ,   994.        ,  2421.        ,  1296.        ,\n",
       "          87.        ,   155.        ,   494.        ,   426.        ,\n",
       "        1086.        ,   961.        ,  2236.        ,  1829.        ,\n",
       "         764.        ,  1834.        ,  1054.        ,   617.        ,\n",
       "        2266.        ,   637.        ,   626.        ,  1832.        ,\n",
       "        1016.        ,  2002.        ,  1756.        ,   746.        ,\n",
       "        1285.        ,  2690.        ,  1118.        ,  5332.        ,\n",
       "         980.        ,  1807.        ,   970.        ,  1228.        ,\n",
       "        1195.        ,  1132.        ,  1768.        ,  1885.        ,\n",
       "        1080.        ,  7063.        ,  1817.        ,   702.        ,\n",
       "        1974.        ,  1781.        ,   944.        ,   663.        ,\n",
       "         364.        ,  1539.        ,  1345.        ,  1680.        ,\n",
       "        2209.        ,   741.        ,  1575.        ,   695.        ,\n",
       "        1317.        ,   294.        ,   424.        ,   997.        ,\n",
       "        1473.        ,  1552.        ,  1156.        ,  2188.        ,\n",
       "        1668.        ,   799.        ,  1502.        ,  2606.        ,\n",
       "         552.        ,  1759.        ,   399.        ,  1694.        ,\n",
       "        1470.        ,  5877.        ,  1474.        ,   526.        ,\n",
       "         686.        ,  1107.        ,  2070.        ,  1468.        ,\n",
       "        1246.        ,  1076.        ,   556.        ,  1533.        ,\n",
       "        1917.        ,  1346.        ,   732.        ,   692.        ,\n",
       "         579.        ,   421.        ,   362.        ,  1968.        ,\n",
       "        1855.        ,  2711.        ,  1586.        ,  3739.        ,\n",
       "         681.        ,  1708.        ,  2278.        ,  1701.        ,\n",
       "        1482.        ,   928.        ,   827.        ,   722.        ,\n",
       "         832.        ,   527.        ,   604.        ,   173.        ,\n",
       "        3329.        ,  1553.        ,   167.        ,   916.        ,\n",
       "         828.        ,  1108.        ,   975.        ,  3008.        ,\n",
       "        1516.        ,  1699.        ,  2073.        ,  1031.        ,\n",
       "        1503.        ,  1030.        ,  1442.        ,  5666.        ,\n",
       "        2715.        ,  1342.        ,  1426.        ,  2908.        ,\n",
       "        1279.        ,  1110.        ,  4283.        ,   279.        ,\n",
       "         666.        ,  2658.        ,  4736.        ,   748.        ,\n",
       "        1466.        ,   644.        ,   683.        ,  2705.        ,\n",
       "        1341.        ,  1297.        ,   879.        ,  1252.        ,\n",
       "        3141.        ,  3273.        ,  1437.        ,  1518.        ,\n",
       "        1723.        ,  1841.        ,  1588.        ,   972.        ,\n",
       "         682.        ,  1094.        ,   175.        ,  1391.        ,\n",
       "         402.        ,  3894.        ,  1599.        ,  2000.        ,\n",
       "        1109.        ,  3989.        ,   873.        ,  1163.        ,\n",
       "        1991.        ,  1716.        ,  1011.        ,  1673.        ,\n",
       "        2067.        ,   930.        ,  2562.        ,  2874.        ,\n",
       "         965.        ,   462.        ,   605.        ,  1948.        ,\n",
       "        1736.        ,  2054.        ,  2467.        ,  1681.        ,\n",
       "        1272.        ,  1205.        ,   750.        ,  2156.        ,\n",
       "         115.        ,   524.        ,  3184.        ,   676.        ,\n",
       "        1678.        ,   612.        ,   328.        ,  1441.        ,\n",
       "        1675.        ,  2909.        ,   623.        ,  2566.        ,\n",
       "        1621.        ,   822.        ,   867.        ,  3025.        ,\n",
       "        1036.        ,   792.        ,   636.        ,  4057.        ,\n",
       "        3743.        ,  2337.        ,  2570.        ,  2472.        ,\n",
       "        3910.        ,  1662.        ,  2123.        ,  2628.        ,\n",
       "        3208.        ,  2080.        ,  2913.        ,  2505.        ,\n",
       "         870.        ,  7536.        ,  1671.        ,  1064.        ,\n",
       "        1836.        ,  4741.        ,   841.        ,  3112.        ,\n",
       "        2223.        ,  1198.        ,  1039.        ,  3811.        ,\n",
       "        3571.        ,  1171.        ,  1590.        , 11706.        ,\n",
       "        2308.        ,  4860.        ,  1641.        ,  1901.        ])"
      ]
     },
     "execution_count": 93,
     "metadata": {},
     "output_type": "execute_result"
    }
   ],
   "source": [
    "data['Levy'].unique()"
   ]
  },
  {
   "cell_type": "code",
   "execution_count": 94,
   "id": "900015cb",
   "metadata": {},
   "outputs": [
    {
     "data": {
      "text/plain": [
       "array(['LEXUS', 'CHEVROLET', 'HONDA', 'FORD', 'HYUNDAI', 'TOYOTA',\n",
       "       'MERCEDES-BENZ', 'PORSCHE', 'BMW', 'JEEP', 'VOLKSWAGEN', 'AUDI',\n",
       "       'RENAULT', 'NISSAN', 'SUBARU', 'DAEWOO', 'KIA', 'MITSUBISHI',\n",
       "       'SSANGYONG', 'MAZDA', 'GMC', 'FIAT', 'INFINITI', 'ALFA ROMEO',\n",
       "       'SUZUKI', 'OPEL', 'ACURA', 'CITROEN', 'MINI', 'DODGE', 'CHRYSLER',\n",
       "       'ISUZU', 'VAZ', 'JAGUAR', 'SKODA', 'LINCOLN', 'DAIHATSU', 'BUICK',\n",
       "       'CADILLAC', 'PEUGEOT', 'VOLVO', 'სხვა', 'HAVAL', 'LAND ROVER',\n",
       "       'SCION', 'MERCURY', 'SEAT', 'LANCIA', 'MASERATI', 'HUMMER', 'SAAB',\n",
       "       'GAZ', 'UAZ', 'PONTIAC', 'SATURN', 'GREATWALL'], dtype=object)"
      ]
     },
     "execution_count": 94,
     "metadata": {},
     "output_type": "execute_result"
    }
   ],
   "source": [
    "data['Manufacturer'].unique()"
   ]
  },
  {
   "cell_type": "code",
   "execution_count": 95,
   "id": "bf758aae",
   "metadata": {},
   "outputs": [
    {
     "data": {
      "text/plain": [
       "array(['RX 450', 'Equinox', 'FIT', ..., '406', 'Prius C aqua',\n",
       "       'Optima ex'], dtype=object)"
      ]
     },
     "execution_count": 95,
     "metadata": {},
     "output_type": "execute_result"
    }
   ],
   "source": [
    "data['Model'].unique()"
   ]
  },
  {
   "cell_type": "code",
   "execution_count": 96,
   "id": "8187729b",
   "metadata": {},
   "outputs": [
    {
     "data": {
      "text/plain": [
       "array([2010, 2011, 2006, 2014, 2016, 2013, 2007, 2018, 2008, 2012, 2017,\n",
       "       2001, 2000, 2015, 2004, 2009, 2019, 2005, 2003, 2002, 2020])"
      ]
     },
     "execution_count": 96,
     "metadata": {},
     "output_type": "execute_result"
    }
   ],
   "source": [
    "data['Prod. year'].unique()"
   ]
  },
  {
   "cell_type": "code",
   "execution_count": 97,
   "id": "3bc1b160",
   "metadata": {},
   "outputs": [
    {
     "data": {
      "text/plain": [
       "array(['Jeep', 'Hatchback', 'Sedan', 'Microbus', 'Goods wagon',\n",
       "       'Universal', 'Coupe', 'Minivan', 'Cabriolet', 'Pickup',\n",
       "       'Limousine'], dtype=object)"
      ]
     },
     "execution_count": 97,
     "metadata": {},
     "output_type": "execute_result"
    }
   ],
   "source": [
    "data['Category'].unique()"
   ]
  },
  {
   "cell_type": "code",
   "execution_count": 98,
   "id": "060a4ac9",
   "metadata": {},
   "outputs": [
    {
     "data": {
      "text/plain": [
       "array(['Yes', 'No'], dtype=object)"
      ]
     },
     "execution_count": 98,
     "metadata": {},
     "output_type": "execute_result"
    }
   ],
   "source": [
    "data['Leather interior'].unique()"
   ]
  },
  {
   "cell_type": "code",
   "execution_count": 99,
   "id": "ae9aaf98",
   "metadata": {},
   "outputs": [
    {
     "data": {
      "text/plain": [
       "array(['Hybrid', 'Petrol', 'Diesel', 'Plug-in Hybrid', 'CNG', 'LPG',\n",
       "       'Hydrogen'], dtype=object)"
      ]
     },
     "execution_count": 99,
     "metadata": {},
     "output_type": "execute_result"
    }
   ],
   "source": [
    "data['Fuel type'].unique()"
   ]
  },
  {
   "cell_type": "code",
   "execution_count": 100,
   "id": "4ea82436",
   "metadata": {},
   "outputs": [
    {
     "data": {
      "text/plain": [
       "array([ 3.5,  3. ,  1.3,  2.5,  2. ,  1.8,  2.4,  3.3,  1.6,  2.2,  4.7,\n",
       "        1.5,  4.4,  1.4,  3.6,  4. ,  2.3,  3.2,  3.8,  4.6,  1.2,  5. ,\n",
       "        1.7,  2.9,  0.5,  1.9,  5.5,  5.3,  0.4,  2.8,  2.1,  0.7,  4.8,\n",
       "        2.7,  3.7,  1. ,  2.6,  0.8,  0.2,  5.7,  6.7,  6.2,  3.4,  4.2,\n",
       "       20. ,  1.1,  0. ,  5.6,  0.6,  4.5,  7.3,  0.1,  5.4,  4.3,  6.4,\n",
       "        3.9,  5.9,  6.3,  6. ,  0.3,  5.2,  5.8])"
      ]
     },
     "execution_count": 100,
     "metadata": {},
     "output_type": "execute_result"
    }
   ],
   "source": [
    "data['Engine volume'].unique()"
   ]
  },
  {
   "cell_type": "code",
   "execution_count": 101,
   "id": "e650e14f",
   "metadata": {},
   "outputs": [
    {
     "data": {
      "text/plain": [
       "array([186005, 192000, 200000, ..., 140607, 307325, 186923])"
      ]
     },
     "execution_count": 101,
     "metadata": {},
     "output_type": "execute_result"
    }
   ],
   "source": [
    "data['Mileage'].unique()"
   ]
  },
  {
   "cell_type": "code",
   "execution_count": 102,
   "id": "e4cddf43",
   "metadata": {},
   "outputs": [
    {
     "data": {
      "text/plain": [
       "array([ 6,  4,  8, 12, 16,  5, 10,  7, 14])"
      ]
     },
     "execution_count": 102,
     "metadata": {},
     "output_type": "execute_result"
    }
   ],
   "source": [
    "data['Cylinders'].unique()"
   ]
  },
  {
   "cell_type": "code",
   "execution_count": 103,
   "id": "24b6888a",
   "metadata": {},
   "outputs": [
    {
     "data": {
      "text/plain": [
       "array(['Automatic', 'Tiptronic', 'Variator', 'Manual'], dtype=object)"
      ]
     },
     "execution_count": 103,
     "metadata": {},
     "output_type": "execute_result"
    }
   ],
   "source": [
    "data['Gear box type'].unique()"
   ]
  },
  {
   "cell_type": "code",
   "execution_count": 104,
   "id": "a7b64691",
   "metadata": {},
   "outputs": [
    {
     "data": {
      "text/plain": [
       "array(['4x4', 'Front', 'Rear'], dtype=object)"
      ]
     },
     "execution_count": 104,
     "metadata": {},
     "output_type": "execute_result"
    }
   ],
   "source": [
    "data['Drive wheels'].unique()"
   ]
  },
  {
   "cell_type": "code",
   "execution_count": 105,
   "id": "56ed9ae0",
   "metadata": {},
   "outputs": [
    {
     "data": {
      "text/plain": [
       "array([4, 2, 5])"
      ]
     },
     "execution_count": 105,
     "metadata": {},
     "output_type": "execute_result"
    }
   ],
   "source": [
    "data['Doors'].unique()"
   ]
  },
  {
   "cell_type": "code",
   "execution_count": 106,
   "id": "5bc85520",
   "metadata": {},
   "outputs": [
    {
     "data": {
      "text/plain": [
       "array(['Left wheel', 'Right-hand drive'], dtype=object)"
      ]
     },
     "execution_count": 106,
     "metadata": {},
     "output_type": "execute_result"
    }
   ],
   "source": [
    "data['Wheel'].unique()"
   ]
  },
  {
   "cell_type": "code",
   "execution_count": 107,
   "id": "4c1aae55",
   "metadata": {},
   "outputs": [
    {
     "data": {
      "text/plain": [
       "array(['Silver', 'Black', 'White', 'Grey', 'Blue', 'Sky blue', 'Red',\n",
       "       'Green', 'Yellow', 'Brown', 'Golden', 'Beige', 'Orange',\n",
       "       'Carnelian red', 'Purple', 'Pink'], dtype=object)"
      ]
     },
     "execution_count": 107,
     "metadata": {},
     "output_type": "execute_result"
    }
   ],
   "source": [
    "data['Color'].unique()"
   ]
  },
  {
   "cell_type": "code",
   "execution_count": 108,
   "id": "5bc7a9ce",
   "metadata": {},
   "outputs": [
    {
     "data": {
      "text/plain": [
       "array([12,  8,  2,  0,  4,  6, 10,  3,  1, 16,  7,  9,  5, 11, 14, 15, 13])"
      ]
     },
     "execution_count": 108,
     "metadata": {},
     "output_type": "execute_result"
    }
   ],
   "source": [
    "data['Airbags'].unique()"
   ]
  },
  {
   "cell_type": "markdown",
   "id": "69d87471",
   "metadata": {},
   "source": [
    "### fix Levy"
   ]
  },
  {
   "cell_type": "code",
   "execution_count": 109,
   "id": "364677c2",
   "metadata": {},
   "outputs": [
    {
     "data": {
      "text/plain": [
       "906.299205     4433\n",
       "640.000000      392\n",
       "639.000000      326\n",
       "891.000000      323\n",
       "765.000000      314\n",
       "               ... \n",
       "3329.000000       1\n",
       "1553.000000       1\n",
       "916.000000        1\n",
       "3008.000000       1\n",
       "1901.000000       1\n",
       "Name: Levy, Length: 504, dtype: int64"
      ]
     },
     "execution_count": 109,
     "metadata": {},
     "output_type": "execute_result"
    }
   ],
   "source": [
    "data['Levy'].value_counts()"
   ]
  },
  {
   "cell_type": "code",
   "execution_count": 110,
   "id": "b38f7bac",
   "metadata": {},
   "outputs": [],
   "source": [
    "data['Levy'].replace({'-':np.nan}, inplace=True)"
   ]
  },
  {
   "cell_type": "code",
   "execution_count": 111,
   "id": "ce171e01",
   "metadata": {},
   "outputs": [],
   "source": [
    "data['Levy'] = data['Levy'].astype(float)"
   ]
  },
  {
   "cell_type": "code",
   "execution_count": 112,
   "id": "393d71fe",
   "metadata": {},
   "outputs": [
    {
     "data": {
      "text/html": [
       "<div>\n",
       "<style scoped>\n",
       "    .dataframe tbody tr th:only-of-type {\n",
       "        vertical-align: middle;\n",
       "    }\n",
       "\n",
       "    .dataframe tbody tr th {\n",
       "        vertical-align: top;\n",
       "    }\n",
       "\n",
       "    .dataframe thead th {\n",
       "        text-align: right;\n",
       "    }\n",
       "</style>\n",
       "<table border=\"1\" class=\"dataframe\">\n",
       "  <thead>\n",
       "    <tr style=\"text-align: right;\">\n",
       "      <th></th>\n",
       "      <th>ID</th>\n",
       "      <th>Price</th>\n",
       "      <th>Levy</th>\n",
       "      <th>Manufacturer</th>\n",
       "      <th>Model</th>\n",
       "      <th>Prod. year</th>\n",
       "      <th>Category</th>\n",
       "      <th>Leather interior</th>\n",
       "      <th>Fuel type</th>\n",
       "      <th>Engine volume</th>\n",
       "      <th>Mileage</th>\n",
       "      <th>Cylinders</th>\n",
       "      <th>Gear box type</th>\n",
       "      <th>Drive wheels</th>\n",
       "      <th>Doors</th>\n",
       "      <th>Wheel</th>\n",
       "      <th>Color</th>\n",
       "      <th>Airbags</th>\n",
       "      <th>has_turbo</th>\n",
       "    </tr>\n",
       "  </thead>\n",
       "  <tbody>\n",
       "    <tr>\n",
       "      <th>0</th>\n",
       "      <td>45654403</td>\n",
       "      <td>13328</td>\n",
       "      <td>1399.000000</td>\n",
       "      <td>LEXUS</td>\n",
       "      <td>RX 450</td>\n",
       "      <td>2010</td>\n",
       "      <td>Jeep</td>\n",
       "      <td>Yes</td>\n",
       "      <td>Hybrid</td>\n",
       "      <td>3.5</td>\n",
       "      <td>186005</td>\n",
       "      <td>6</td>\n",
       "      <td>Automatic</td>\n",
       "      <td>4x4</td>\n",
       "      <td>4</td>\n",
       "      <td>Left wheel</td>\n",
       "      <td>Silver</td>\n",
       "      <td>12</td>\n",
       "      <td>False</td>\n",
       "    </tr>\n",
       "    <tr>\n",
       "      <th>1</th>\n",
       "      <td>44731507</td>\n",
       "      <td>16621</td>\n",
       "      <td>1018.000000</td>\n",
       "      <td>CHEVROLET</td>\n",
       "      <td>Equinox</td>\n",
       "      <td>2011</td>\n",
       "      <td>Jeep</td>\n",
       "      <td>No</td>\n",
       "      <td>Petrol</td>\n",
       "      <td>3.0</td>\n",
       "      <td>192000</td>\n",
       "      <td>6</td>\n",
       "      <td>Tiptronic</td>\n",
       "      <td>4x4</td>\n",
       "      <td>4</td>\n",
       "      <td>Left wheel</td>\n",
       "      <td>Black</td>\n",
       "      <td>8</td>\n",
       "      <td>False</td>\n",
       "    </tr>\n",
       "    <tr>\n",
       "      <th>2</th>\n",
       "      <td>45774419</td>\n",
       "      <td>8467</td>\n",
       "      <td>906.299205</td>\n",
       "      <td>HONDA</td>\n",
       "      <td>FIT</td>\n",
       "      <td>2006</td>\n",
       "      <td>Hatchback</td>\n",
       "      <td>No</td>\n",
       "      <td>Petrol</td>\n",
       "      <td>1.3</td>\n",
       "      <td>200000</td>\n",
       "      <td>4</td>\n",
       "      <td>Variator</td>\n",
       "      <td>Front</td>\n",
       "      <td>4</td>\n",
       "      <td>Right-hand drive</td>\n",
       "      <td>Black</td>\n",
       "      <td>2</td>\n",
       "      <td>False</td>\n",
       "    </tr>\n",
       "    <tr>\n",
       "      <th>3</th>\n",
       "      <td>45769185</td>\n",
       "      <td>3607</td>\n",
       "      <td>862.000000</td>\n",
       "      <td>FORD</td>\n",
       "      <td>Escape</td>\n",
       "      <td>2011</td>\n",
       "      <td>Jeep</td>\n",
       "      <td>Yes</td>\n",
       "      <td>Hybrid</td>\n",
       "      <td>2.5</td>\n",
       "      <td>168966</td>\n",
       "      <td>4</td>\n",
       "      <td>Automatic</td>\n",
       "      <td>4x4</td>\n",
       "      <td>4</td>\n",
       "      <td>Left wheel</td>\n",
       "      <td>White</td>\n",
       "      <td>0</td>\n",
       "      <td>False</td>\n",
       "    </tr>\n",
       "    <tr>\n",
       "      <th>4</th>\n",
       "      <td>45809263</td>\n",
       "      <td>11726</td>\n",
       "      <td>446.000000</td>\n",
       "      <td>HONDA</td>\n",
       "      <td>FIT</td>\n",
       "      <td>2014</td>\n",
       "      <td>Hatchback</td>\n",
       "      <td>Yes</td>\n",
       "      <td>Petrol</td>\n",
       "      <td>1.3</td>\n",
       "      <td>91901</td>\n",
       "      <td>4</td>\n",
       "      <td>Automatic</td>\n",
       "      <td>Front</td>\n",
       "      <td>4</td>\n",
       "      <td>Left wheel</td>\n",
       "      <td>Silver</td>\n",
       "      <td>4</td>\n",
       "      <td>False</td>\n",
       "    </tr>\n",
       "  </tbody>\n",
       "</table>\n",
       "</div>"
      ],
      "text/plain": [
       "         ID  Price         Levy Manufacturer    Model  Prod. year   Category  \\\n",
       "0  45654403  13328  1399.000000        LEXUS   RX 450        2010       Jeep   \n",
       "1  44731507  16621  1018.000000    CHEVROLET  Equinox        2011       Jeep   \n",
       "2  45774419   8467   906.299205        HONDA      FIT        2006  Hatchback   \n",
       "3  45769185   3607   862.000000         FORD   Escape        2011       Jeep   \n",
       "4  45809263  11726   446.000000        HONDA      FIT        2014  Hatchback   \n",
       "\n",
       "  Leather interior Fuel type  Engine volume  Mileage  Cylinders Gear box type  \\\n",
       "0              Yes    Hybrid            3.5   186005          6     Automatic   \n",
       "1               No    Petrol            3.0   192000          6     Tiptronic   \n",
       "2               No    Petrol            1.3   200000          4      Variator   \n",
       "3              Yes    Hybrid            2.5   168966          4     Automatic   \n",
       "4              Yes    Petrol            1.3    91901          4     Automatic   \n",
       "\n",
       "  Drive wheels  Doors             Wheel   Color  Airbags  has_turbo  \n",
       "0          4x4      4        Left wheel  Silver       12      False  \n",
       "1          4x4      4        Left wheel   Black        8      False  \n",
       "2        Front      4  Right-hand drive   Black        2      False  \n",
       "3          4x4      4        Left wheel   White        0      False  \n",
       "4        Front      4        Left wheel  Silver        4      False  "
      ]
     },
     "execution_count": 112,
     "metadata": {},
     "output_type": "execute_result"
    }
   ],
   "source": [
    "data.head()"
   ]
  },
  {
   "cell_type": "code",
   "execution_count": 113,
   "id": "3eb43161",
   "metadata": {},
   "outputs": [
    {
     "data": {
      "text/plain": [
       "ID                  0\n",
       "Price               0\n",
       "Levy                0\n",
       "Manufacturer        0\n",
       "Model               0\n",
       "Prod. year          0\n",
       "Category            0\n",
       "Leather interior    0\n",
       "Fuel type           0\n",
       "Engine volume       0\n",
       "Mileage             0\n",
       "Cylinders           0\n",
       "Gear box type       0\n",
       "Drive wheels        0\n",
       "Doors               0\n",
       "Wheel               0\n",
       "Color               0\n",
       "Airbags             0\n",
       "has_turbo           0\n",
       "dtype: int64"
      ]
     },
     "execution_count": 113,
     "metadata": {},
     "output_type": "execute_result"
    }
   ],
   "source": [
    "data.isnull().sum()"
   ]
  },
  {
   "cell_type": "code",
   "execution_count": 114,
   "id": "881c22f4",
   "metadata": {},
   "outputs": [
    {
     "name": "stdout",
     "output_type": "stream",
     "text": [
      "<class 'pandas.core.frame.DataFrame'>\n",
      "Int64Index: 16361 entries, 0 to 16360\n",
      "Data columns (total 19 columns):\n",
      " #   Column            Non-Null Count  Dtype  \n",
      "---  ------            --------------  -----  \n",
      " 0   ID                16361 non-null  int64  \n",
      " 1   Price             16361 non-null  int64  \n",
      " 2   Levy              16361 non-null  float64\n",
      " 3   Manufacturer      16361 non-null  object \n",
      " 4   Model             16361 non-null  object \n",
      " 5   Prod. year        16361 non-null  int64  \n",
      " 6   Category          16361 non-null  object \n",
      " 7   Leather interior  16361 non-null  object \n",
      " 8   Fuel type         16361 non-null  object \n",
      " 9   Engine volume     16361 non-null  float64\n",
      " 10  Mileage           16361 non-null  int64  \n",
      " 11  Cylinders         16361 non-null  int64  \n",
      " 12  Gear box type     16361 non-null  object \n",
      " 13  Drive wheels      16361 non-null  object \n",
      " 14  Doors             16361 non-null  int64  \n",
      " 15  Wheel             16361 non-null  object \n",
      " 16  Color             16361 non-null  object \n",
      " 17  Airbags           16361 non-null  int64  \n",
      " 18  has_turbo         16361 non-null  bool   \n",
      "dtypes: bool(1), float64(2), int64(7), object(9)\n",
      "memory usage: 2.4+ MB\n"
     ]
    }
   ],
   "source": [
    "data.info()"
   ]
  },
  {
   "cell_type": "markdown",
   "id": "cdcc5d77",
   "metadata": {},
   "source": [
    "### Handling missing value in Levy"
   ]
  },
  {
   "cell_type": "code",
   "execution_count": 115,
   "id": "f4cc7c7c",
   "metadata": {},
   "outputs": [],
   "source": [
    "Levy = data['Levy']"
   ]
  },
  {
   "cell_type": "code",
   "execution_count": 116,
   "id": "e7e95c0d",
   "metadata": {},
   "outputs": [
    {
     "data": {
      "text/plain": [
       "0    1399.000000\n",
       "1    1018.000000\n",
       "2     906.299205\n",
       "3     862.000000\n",
       "4     446.000000\n",
       "Name: Levy, dtype: float64"
      ]
     },
     "execution_count": 116,
     "metadata": {},
     "output_type": "execute_result"
    }
   ],
   "source": [
    "Levy.head()"
   ]
  },
  {
   "cell_type": "code",
   "execution_count": 117,
   "id": "45e1c478",
   "metadata": {},
   "outputs": [
    {
     "data": {
      "text/plain": [
       "895.263393298243"
      ]
     },
     "execution_count": 117,
     "metadata": {},
     "output_type": "execute_result"
    }
   ],
   "source": [
    "Levy_mean = Levy.mean()\n",
    "Levy_mean"
   ]
  },
  {
   "cell_type": "code",
   "execution_count": 118,
   "id": "b239ae37",
   "metadata": {},
   "outputs": [],
   "source": [
    "Levy.fillna(Levy_mean , inplace=True)"
   ]
  },
  {
   "cell_type": "code",
   "execution_count": 119,
   "id": "f81cb25b",
   "metadata": {},
   "outputs": [
    {
     "data": {
      "text/plain": [
       "0"
      ]
     },
     "execution_count": 119,
     "metadata": {},
     "output_type": "execute_result"
    }
   ],
   "source": [
    "Levy.isnull().sum()"
   ]
  },
  {
   "cell_type": "code",
   "execution_count": 120,
   "id": "f7fd2ec9",
   "metadata": {},
   "outputs": [],
   "source": [
    "# data.drop(columns=['Levy'], inplace=True)"
   ]
  },
  {
   "cell_type": "markdown",
   "id": "0104f14b",
   "metadata": {},
   "source": [
    "## fix Cylinders"
   ]
  },
  {
   "cell_type": "code",
   "execution_count": 121,
   "id": "40eb6779",
   "metadata": {},
   "outputs": [
    {
     "data": {
      "text/html": [
       "<div>\n",
       "<style scoped>\n",
       "    .dataframe tbody tr th:only-of-type {\n",
       "        vertical-align: middle;\n",
       "    }\n",
       "\n",
       "    .dataframe tbody tr th {\n",
       "        vertical-align: top;\n",
       "    }\n",
       "\n",
       "    .dataframe thead th {\n",
       "        text-align: right;\n",
       "    }\n",
       "</style>\n",
       "<table border=\"1\" class=\"dataframe\">\n",
       "  <thead>\n",
       "    <tr style=\"text-align: right;\">\n",
       "      <th></th>\n",
       "      <th>ID</th>\n",
       "      <th>Price</th>\n",
       "      <th>Levy</th>\n",
       "      <th>Manufacturer</th>\n",
       "      <th>Model</th>\n",
       "      <th>Prod. year</th>\n",
       "      <th>Category</th>\n",
       "      <th>Leather interior</th>\n",
       "      <th>Fuel type</th>\n",
       "      <th>Engine volume</th>\n",
       "      <th>Mileage</th>\n",
       "      <th>Cylinders</th>\n",
       "      <th>Gear box type</th>\n",
       "      <th>Drive wheels</th>\n",
       "      <th>Doors</th>\n",
       "      <th>Wheel</th>\n",
       "      <th>Color</th>\n",
       "      <th>Airbags</th>\n",
       "      <th>has_turbo</th>\n",
       "    </tr>\n",
       "  </thead>\n",
       "  <tbody>\n",
       "    <tr>\n",
       "      <th>0</th>\n",
       "      <td>45654403</td>\n",
       "      <td>13328</td>\n",
       "      <td>1399.000000</td>\n",
       "      <td>LEXUS</td>\n",
       "      <td>RX 450</td>\n",
       "      <td>2010</td>\n",
       "      <td>Jeep</td>\n",
       "      <td>Yes</td>\n",
       "      <td>Hybrid</td>\n",
       "      <td>3.5</td>\n",
       "      <td>186005</td>\n",
       "      <td>6</td>\n",
       "      <td>Automatic</td>\n",
       "      <td>4x4</td>\n",
       "      <td>4</td>\n",
       "      <td>Left wheel</td>\n",
       "      <td>Silver</td>\n",
       "      <td>12</td>\n",
       "      <td>False</td>\n",
       "    </tr>\n",
       "    <tr>\n",
       "      <th>1</th>\n",
       "      <td>44731507</td>\n",
       "      <td>16621</td>\n",
       "      <td>1018.000000</td>\n",
       "      <td>CHEVROLET</td>\n",
       "      <td>Equinox</td>\n",
       "      <td>2011</td>\n",
       "      <td>Jeep</td>\n",
       "      <td>No</td>\n",
       "      <td>Petrol</td>\n",
       "      <td>3.0</td>\n",
       "      <td>192000</td>\n",
       "      <td>6</td>\n",
       "      <td>Tiptronic</td>\n",
       "      <td>4x4</td>\n",
       "      <td>4</td>\n",
       "      <td>Left wheel</td>\n",
       "      <td>Black</td>\n",
       "      <td>8</td>\n",
       "      <td>False</td>\n",
       "    </tr>\n",
       "    <tr>\n",
       "      <th>2</th>\n",
       "      <td>45774419</td>\n",
       "      <td>8467</td>\n",
       "      <td>906.299205</td>\n",
       "      <td>HONDA</td>\n",
       "      <td>FIT</td>\n",
       "      <td>2006</td>\n",
       "      <td>Hatchback</td>\n",
       "      <td>No</td>\n",
       "      <td>Petrol</td>\n",
       "      <td>1.3</td>\n",
       "      <td>200000</td>\n",
       "      <td>4</td>\n",
       "      <td>Variator</td>\n",
       "      <td>Front</td>\n",
       "      <td>4</td>\n",
       "      <td>Right-hand drive</td>\n",
       "      <td>Black</td>\n",
       "      <td>2</td>\n",
       "      <td>False</td>\n",
       "    </tr>\n",
       "    <tr>\n",
       "      <th>3</th>\n",
       "      <td>45769185</td>\n",
       "      <td>3607</td>\n",
       "      <td>862.000000</td>\n",
       "      <td>FORD</td>\n",
       "      <td>Escape</td>\n",
       "      <td>2011</td>\n",
       "      <td>Jeep</td>\n",
       "      <td>Yes</td>\n",
       "      <td>Hybrid</td>\n",
       "      <td>2.5</td>\n",
       "      <td>168966</td>\n",
       "      <td>4</td>\n",
       "      <td>Automatic</td>\n",
       "      <td>4x4</td>\n",
       "      <td>4</td>\n",
       "      <td>Left wheel</td>\n",
       "      <td>White</td>\n",
       "      <td>0</td>\n",
       "      <td>False</td>\n",
       "    </tr>\n",
       "    <tr>\n",
       "      <th>4</th>\n",
       "      <td>45809263</td>\n",
       "      <td>11726</td>\n",
       "      <td>446.000000</td>\n",
       "      <td>HONDA</td>\n",
       "      <td>FIT</td>\n",
       "      <td>2014</td>\n",
       "      <td>Hatchback</td>\n",
       "      <td>Yes</td>\n",
       "      <td>Petrol</td>\n",
       "      <td>1.3</td>\n",
       "      <td>91901</td>\n",
       "      <td>4</td>\n",
       "      <td>Automatic</td>\n",
       "      <td>Front</td>\n",
       "      <td>4</td>\n",
       "      <td>Left wheel</td>\n",
       "      <td>Silver</td>\n",
       "      <td>4</td>\n",
       "      <td>False</td>\n",
       "    </tr>\n",
       "  </tbody>\n",
       "</table>\n",
       "</div>"
      ],
      "text/plain": [
       "         ID  Price         Levy Manufacturer    Model  Prod. year   Category  \\\n",
       "0  45654403  13328  1399.000000        LEXUS   RX 450        2010       Jeep   \n",
       "1  44731507  16621  1018.000000    CHEVROLET  Equinox        2011       Jeep   \n",
       "2  45774419   8467   906.299205        HONDA      FIT        2006  Hatchback   \n",
       "3  45769185   3607   862.000000         FORD   Escape        2011       Jeep   \n",
       "4  45809263  11726   446.000000        HONDA      FIT        2014  Hatchback   \n",
       "\n",
       "  Leather interior Fuel type  Engine volume  Mileage  Cylinders Gear box type  \\\n",
       "0              Yes    Hybrid            3.5   186005          6     Automatic   \n",
       "1               No    Petrol            3.0   192000          6     Tiptronic   \n",
       "2               No    Petrol            1.3   200000          4      Variator   \n",
       "3              Yes    Hybrid            2.5   168966          4     Automatic   \n",
       "4              Yes    Petrol            1.3    91901          4     Automatic   \n",
       "\n",
       "  Drive wheels  Doors             Wheel   Color  Airbags  has_turbo  \n",
       "0          4x4      4        Left wheel  Silver       12      False  \n",
       "1          4x4      4        Left wheel   Black        8      False  \n",
       "2        Front      4  Right-hand drive   Black        2      False  \n",
       "3          4x4      4        Left wheel   White        0      False  \n",
       "4        Front      4        Left wheel  Silver        4      False  "
      ]
     },
     "execution_count": 121,
     "metadata": {},
     "output_type": "execute_result"
    }
   ],
   "source": [
    "data.head()"
   ]
  },
  {
   "cell_type": "code",
   "execution_count": 122,
   "id": "26ba66f4",
   "metadata": {},
   "outputs": [
    {
     "data": {
      "text/plain": [
       "nan"
      ]
     },
     "execution_count": 122,
     "metadata": {},
     "output_type": "execute_result"
    }
   ],
   "source": [
    "def CL(a):\n",
    "        if(a<4):\n",
    "            return np.nan\n",
    "        else:\n",
    "            return(a)\n",
    "\n",
    "CL(6)\n",
    "CL(1)\n",
    "CL(3) "
   ]
  },
  {
   "cell_type": "code",
   "execution_count": 123,
   "id": "98d0d8ca",
   "metadata": {},
   "outputs": [],
   "source": [
    "data['Cylinders']=data['Cylinders'].apply(CL)"
   ]
  },
  {
   "cell_type": "code",
   "execution_count": 124,
   "id": "08d3952f",
   "metadata": {},
   "outputs": [
    {
     "data": {
      "text/plain": [
       "array([ 6,  4,  8, 12, 16,  5, 10,  7, 14])"
      ]
     },
     "execution_count": 124,
     "metadata": {},
     "output_type": "execute_result"
    }
   ],
   "source": [
    "data['Cylinders'].unique()"
   ]
  },
  {
   "cell_type": "code",
   "execution_count": 125,
   "id": "1bda5884",
   "metadata": {},
   "outputs": [
    {
     "data": {
      "text/plain": [
       "4     12535\n",
       "6      2868\n",
       "8       764\n",
       "5       149\n",
       "12       27\n",
       "10       10\n",
       "16        5\n",
       "7         2\n",
       "14        1\n",
       "Name: Cylinders, dtype: int64"
      ]
     },
     "execution_count": 125,
     "metadata": {},
     "output_type": "execute_result"
    }
   ],
   "source": [
    "data['Cylinders'].value_counts()"
   ]
  },
  {
   "cell_type": "code",
   "execution_count": null,
   "id": "fb05f187",
   "metadata": {},
   "outputs": [],
   "source": []
  },
  {
   "cell_type": "code",
   "execution_count": 126,
   "id": "a0854f3d",
   "metadata": {},
   "outputs": [
    {
     "data": {
      "text/plain": [
       "ID                  0\n",
       "Price               0\n",
       "Levy                0\n",
       "Manufacturer        0\n",
       "Model               0\n",
       "Prod. year          0\n",
       "Category            0\n",
       "Leather interior    0\n",
       "Fuel type           0\n",
       "Engine volume       0\n",
       "Mileage             0\n",
       "Cylinders           0\n",
       "Gear box type       0\n",
       "Drive wheels        0\n",
       "Doors               0\n",
       "Wheel               0\n",
       "Color               0\n",
       "Airbags             0\n",
       "has_turbo           0\n",
       "dtype: int64"
      ]
     },
     "execution_count": 126,
     "metadata": {},
     "output_type": "execute_result"
    }
   ],
   "source": [
    "data.isnull().sum()"
   ]
  },
  {
   "cell_type": "code",
   "execution_count": 127,
   "id": "2ffd7a12",
   "metadata": {},
   "outputs": [
    {
     "data": {
      "text/plain": [
       "4"
      ]
     },
     "execution_count": 127,
     "metadata": {},
     "output_type": "execute_result"
    }
   ],
   "source": [
    "Cylinders_mean = data['Cylinders'].mean()\n",
    "Cylinders_mean.astype(int)"
   ]
  },
  {
   "cell_type": "code",
   "execution_count": 128,
   "id": "29a14982",
   "metadata": {},
   "outputs": [],
   "source": [
    "data['Cylinders'].fillna(Cylinders_mean,inplace=True)\n"
   ]
  },
  {
   "cell_type": "code",
   "execution_count": 129,
   "id": "9d1ebb9b",
   "metadata": {},
   "outputs": [
    {
     "data": {
      "text/html": [
       "<div>\n",
       "<style scoped>\n",
       "    .dataframe tbody tr th:only-of-type {\n",
       "        vertical-align: middle;\n",
       "    }\n",
       "\n",
       "    .dataframe tbody tr th {\n",
       "        vertical-align: top;\n",
       "    }\n",
       "\n",
       "    .dataframe thead th {\n",
       "        text-align: right;\n",
       "    }\n",
       "</style>\n",
       "<table border=\"1\" class=\"dataframe\">\n",
       "  <thead>\n",
       "    <tr style=\"text-align: right;\">\n",
       "      <th></th>\n",
       "      <th>ID</th>\n",
       "      <th>Price</th>\n",
       "      <th>Levy</th>\n",
       "      <th>Manufacturer</th>\n",
       "      <th>Model</th>\n",
       "      <th>Prod. year</th>\n",
       "      <th>Category</th>\n",
       "      <th>Leather interior</th>\n",
       "      <th>Fuel type</th>\n",
       "      <th>Engine volume</th>\n",
       "      <th>Mileage</th>\n",
       "      <th>Cylinders</th>\n",
       "      <th>Gear box type</th>\n",
       "      <th>Drive wheels</th>\n",
       "      <th>Doors</th>\n",
       "      <th>Wheel</th>\n",
       "      <th>Color</th>\n",
       "      <th>Airbags</th>\n",
       "      <th>has_turbo</th>\n",
       "    </tr>\n",
       "  </thead>\n",
       "  <tbody>\n",
       "    <tr>\n",
       "      <th>0</th>\n",
       "      <td>45654403</td>\n",
       "      <td>13328</td>\n",
       "      <td>1399.000000</td>\n",
       "      <td>LEXUS</td>\n",
       "      <td>RX 450</td>\n",
       "      <td>2010</td>\n",
       "      <td>Jeep</td>\n",
       "      <td>Yes</td>\n",
       "      <td>Hybrid</td>\n",
       "      <td>3.5</td>\n",
       "      <td>186005</td>\n",
       "      <td>6</td>\n",
       "      <td>Automatic</td>\n",
       "      <td>4x4</td>\n",
       "      <td>4</td>\n",
       "      <td>Left wheel</td>\n",
       "      <td>Silver</td>\n",
       "      <td>12</td>\n",
       "      <td>False</td>\n",
       "    </tr>\n",
       "    <tr>\n",
       "      <th>1</th>\n",
       "      <td>44731507</td>\n",
       "      <td>16621</td>\n",
       "      <td>1018.000000</td>\n",
       "      <td>CHEVROLET</td>\n",
       "      <td>Equinox</td>\n",
       "      <td>2011</td>\n",
       "      <td>Jeep</td>\n",
       "      <td>No</td>\n",
       "      <td>Petrol</td>\n",
       "      <td>3.0</td>\n",
       "      <td>192000</td>\n",
       "      <td>6</td>\n",
       "      <td>Tiptronic</td>\n",
       "      <td>4x4</td>\n",
       "      <td>4</td>\n",
       "      <td>Left wheel</td>\n",
       "      <td>Black</td>\n",
       "      <td>8</td>\n",
       "      <td>False</td>\n",
       "    </tr>\n",
       "    <tr>\n",
       "      <th>2</th>\n",
       "      <td>45774419</td>\n",
       "      <td>8467</td>\n",
       "      <td>906.299205</td>\n",
       "      <td>HONDA</td>\n",
       "      <td>FIT</td>\n",
       "      <td>2006</td>\n",
       "      <td>Hatchback</td>\n",
       "      <td>No</td>\n",
       "      <td>Petrol</td>\n",
       "      <td>1.3</td>\n",
       "      <td>200000</td>\n",
       "      <td>4</td>\n",
       "      <td>Variator</td>\n",
       "      <td>Front</td>\n",
       "      <td>4</td>\n",
       "      <td>Right-hand drive</td>\n",
       "      <td>Black</td>\n",
       "      <td>2</td>\n",
       "      <td>False</td>\n",
       "    </tr>\n",
       "    <tr>\n",
       "      <th>3</th>\n",
       "      <td>45769185</td>\n",
       "      <td>3607</td>\n",
       "      <td>862.000000</td>\n",
       "      <td>FORD</td>\n",
       "      <td>Escape</td>\n",
       "      <td>2011</td>\n",
       "      <td>Jeep</td>\n",
       "      <td>Yes</td>\n",
       "      <td>Hybrid</td>\n",
       "      <td>2.5</td>\n",
       "      <td>168966</td>\n",
       "      <td>4</td>\n",
       "      <td>Automatic</td>\n",
       "      <td>4x4</td>\n",
       "      <td>4</td>\n",
       "      <td>Left wheel</td>\n",
       "      <td>White</td>\n",
       "      <td>0</td>\n",
       "      <td>False</td>\n",
       "    </tr>\n",
       "    <tr>\n",
       "      <th>4</th>\n",
       "      <td>45809263</td>\n",
       "      <td>11726</td>\n",
       "      <td>446.000000</td>\n",
       "      <td>HONDA</td>\n",
       "      <td>FIT</td>\n",
       "      <td>2014</td>\n",
       "      <td>Hatchback</td>\n",
       "      <td>Yes</td>\n",
       "      <td>Petrol</td>\n",
       "      <td>1.3</td>\n",
       "      <td>91901</td>\n",
       "      <td>4</td>\n",
       "      <td>Automatic</td>\n",
       "      <td>Front</td>\n",
       "      <td>4</td>\n",
       "      <td>Left wheel</td>\n",
       "      <td>Silver</td>\n",
       "      <td>4</td>\n",
       "      <td>False</td>\n",
       "    </tr>\n",
       "  </tbody>\n",
       "</table>\n",
       "</div>"
      ],
      "text/plain": [
       "         ID  Price         Levy Manufacturer    Model  Prod. year   Category  \\\n",
       "0  45654403  13328  1399.000000        LEXUS   RX 450        2010       Jeep   \n",
       "1  44731507  16621  1018.000000    CHEVROLET  Equinox        2011       Jeep   \n",
       "2  45774419   8467   906.299205        HONDA      FIT        2006  Hatchback   \n",
       "3  45769185   3607   862.000000         FORD   Escape        2011       Jeep   \n",
       "4  45809263  11726   446.000000        HONDA      FIT        2014  Hatchback   \n",
       "\n",
       "  Leather interior Fuel type  Engine volume  Mileage  Cylinders Gear box type  \\\n",
       "0              Yes    Hybrid            3.5   186005          6     Automatic   \n",
       "1               No    Petrol            3.0   192000          6     Tiptronic   \n",
       "2               No    Petrol            1.3   200000          4      Variator   \n",
       "3              Yes    Hybrid            2.5   168966          4     Automatic   \n",
       "4              Yes    Petrol            1.3    91901          4     Automatic   \n",
       "\n",
       "  Drive wheels  Doors             Wheel   Color  Airbags  has_turbo  \n",
       "0          4x4      4        Left wheel  Silver       12      False  \n",
       "1          4x4      4        Left wheel   Black        8      False  \n",
       "2        Front      4  Right-hand drive   Black        2      False  \n",
       "3          4x4      4        Left wheel   White        0      False  \n",
       "4        Front      4        Left wheel  Silver        4      False  "
      ]
     },
     "execution_count": 129,
     "metadata": {},
     "output_type": "execute_result"
    }
   ],
   "source": [
    "data.head()"
   ]
  },
  {
   "cell_type": "code",
   "execution_count": 130,
   "id": "125f7db7",
   "metadata": {},
   "outputs": [
    {
     "data": {
      "text/plain": [
       "ID                  0\n",
       "Price               0\n",
       "Levy                0\n",
       "Manufacturer        0\n",
       "Model               0\n",
       "Prod. year          0\n",
       "Category            0\n",
       "Leather interior    0\n",
       "Fuel type           0\n",
       "Engine volume       0\n",
       "Mileage             0\n",
       "Cylinders           0\n",
       "Gear box type       0\n",
       "Drive wheels        0\n",
       "Doors               0\n",
       "Wheel               0\n",
       "Color               0\n",
       "Airbags             0\n",
       "has_turbo           0\n",
       "dtype: int64"
      ]
     },
     "execution_count": 130,
     "metadata": {},
     "output_type": "execute_result"
    }
   ],
   "source": [
    "data.isnull().sum()"
   ]
  },
  {
   "cell_type": "markdown",
   "id": "06ea6296",
   "metadata": {},
   "source": [
    "### fix doors"
   ]
  },
  {
   "cell_type": "code",
   "execution_count": 131,
   "id": "6d6da693",
   "metadata": {},
   "outputs": [
    {
     "data": {
      "text/plain": [
       "4    15720\n",
       "2      542\n",
       "5       99\n",
       "Name: Doors, dtype: int64"
      ]
     },
     "execution_count": 131,
     "metadata": {},
     "output_type": "execute_result"
    }
   ],
   "source": [
    "data['Doors'].value_counts()"
   ]
  },
  {
   "cell_type": "code",
   "execution_count": 132,
   "id": "bb67e671",
   "metadata": {},
   "outputs": [],
   "source": [
    "data['Doors'].replace({'04-May':4, '02-Mar':2, '>5':5}, inplace=True)"
   ]
  },
  {
   "cell_type": "code",
   "execution_count": 133,
   "id": "466d1262",
   "metadata": {},
   "outputs": [
    {
     "data": {
      "text/html": [
       "<div>\n",
       "<style scoped>\n",
       "    .dataframe tbody tr th:only-of-type {\n",
       "        vertical-align: middle;\n",
       "    }\n",
       "\n",
       "    .dataframe tbody tr th {\n",
       "        vertical-align: top;\n",
       "    }\n",
       "\n",
       "    .dataframe thead th {\n",
       "        text-align: right;\n",
       "    }\n",
       "</style>\n",
       "<table border=\"1\" class=\"dataframe\">\n",
       "  <thead>\n",
       "    <tr style=\"text-align: right;\">\n",
       "      <th></th>\n",
       "      <th>ID</th>\n",
       "      <th>Price</th>\n",
       "      <th>Levy</th>\n",
       "      <th>Manufacturer</th>\n",
       "      <th>Model</th>\n",
       "      <th>Prod. year</th>\n",
       "      <th>Category</th>\n",
       "      <th>Leather interior</th>\n",
       "      <th>Fuel type</th>\n",
       "      <th>Engine volume</th>\n",
       "      <th>Mileage</th>\n",
       "      <th>Cylinders</th>\n",
       "      <th>Gear box type</th>\n",
       "      <th>Drive wheels</th>\n",
       "      <th>Doors</th>\n",
       "      <th>Wheel</th>\n",
       "      <th>Color</th>\n",
       "      <th>Airbags</th>\n",
       "      <th>has_turbo</th>\n",
       "    </tr>\n",
       "  </thead>\n",
       "  <tbody>\n",
       "    <tr>\n",
       "      <th>0</th>\n",
       "      <td>45654403</td>\n",
       "      <td>13328</td>\n",
       "      <td>1399.000000</td>\n",
       "      <td>LEXUS</td>\n",
       "      <td>RX 450</td>\n",
       "      <td>2010</td>\n",
       "      <td>Jeep</td>\n",
       "      <td>Yes</td>\n",
       "      <td>Hybrid</td>\n",
       "      <td>3.5</td>\n",
       "      <td>186005</td>\n",
       "      <td>6</td>\n",
       "      <td>Automatic</td>\n",
       "      <td>4x4</td>\n",
       "      <td>4</td>\n",
       "      <td>Left wheel</td>\n",
       "      <td>Silver</td>\n",
       "      <td>12</td>\n",
       "      <td>False</td>\n",
       "    </tr>\n",
       "    <tr>\n",
       "      <th>1</th>\n",
       "      <td>44731507</td>\n",
       "      <td>16621</td>\n",
       "      <td>1018.000000</td>\n",
       "      <td>CHEVROLET</td>\n",
       "      <td>Equinox</td>\n",
       "      <td>2011</td>\n",
       "      <td>Jeep</td>\n",
       "      <td>No</td>\n",
       "      <td>Petrol</td>\n",
       "      <td>3.0</td>\n",
       "      <td>192000</td>\n",
       "      <td>6</td>\n",
       "      <td>Tiptronic</td>\n",
       "      <td>4x4</td>\n",
       "      <td>4</td>\n",
       "      <td>Left wheel</td>\n",
       "      <td>Black</td>\n",
       "      <td>8</td>\n",
       "      <td>False</td>\n",
       "    </tr>\n",
       "    <tr>\n",
       "      <th>2</th>\n",
       "      <td>45774419</td>\n",
       "      <td>8467</td>\n",
       "      <td>906.299205</td>\n",
       "      <td>HONDA</td>\n",
       "      <td>FIT</td>\n",
       "      <td>2006</td>\n",
       "      <td>Hatchback</td>\n",
       "      <td>No</td>\n",
       "      <td>Petrol</td>\n",
       "      <td>1.3</td>\n",
       "      <td>200000</td>\n",
       "      <td>4</td>\n",
       "      <td>Variator</td>\n",
       "      <td>Front</td>\n",
       "      <td>4</td>\n",
       "      <td>Right-hand drive</td>\n",
       "      <td>Black</td>\n",
       "      <td>2</td>\n",
       "      <td>False</td>\n",
       "    </tr>\n",
       "    <tr>\n",
       "      <th>3</th>\n",
       "      <td>45769185</td>\n",
       "      <td>3607</td>\n",
       "      <td>862.000000</td>\n",
       "      <td>FORD</td>\n",
       "      <td>Escape</td>\n",
       "      <td>2011</td>\n",
       "      <td>Jeep</td>\n",
       "      <td>Yes</td>\n",
       "      <td>Hybrid</td>\n",
       "      <td>2.5</td>\n",
       "      <td>168966</td>\n",
       "      <td>4</td>\n",
       "      <td>Automatic</td>\n",
       "      <td>4x4</td>\n",
       "      <td>4</td>\n",
       "      <td>Left wheel</td>\n",
       "      <td>White</td>\n",
       "      <td>0</td>\n",
       "      <td>False</td>\n",
       "    </tr>\n",
       "    <tr>\n",
       "      <th>4</th>\n",
       "      <td>45809263</td>\n",
       "      <td>11726</td>\n",
       "      <td>446.000000</td>\n",
       "      <td>HONDA</td>\n",
       "      <td>FIT</td>\n",
       "      <td>2014</td>\n",
       "      <td>Hatchback</td>\n",
       "      <td>Yes</td>\n",
       "      <td>Petrol</td>\n",
       "      <td>1.3</td>\n",
       "      <td>91901</td>\n",
       "      <td>4</td>\n",
       "      <td>Automatic</td>\n",
       "      <td>Front</td>\n",
       "      <td>4</td>\n",
       "      <td>Left wheel</td>\n",
       "      <td>Silver</td>\n",
       "      <td>4</td>\n",
       "      <td>False</td>\n",
       "    </tr>\n",
       "  </tbody>\n",
       "</table>\n",
       "</div>"
      ],
      "text/plain": [
       "         ID  Price         Levy Manufacturer    Model  Prod. year   Category  \\\n",
       "0  45654403  13328  1399.000000        LEXUS   RX 450        2010       Jeep   \n",
       "1  44731507  16621  1018.000000    CHEVROLET  Equinox        2011       Jeep   \n",
       "2  45774419   8467   906.299205        HONDA      FIT        2006  Hatchback   \n",
       "3  45769185   3607   862.000000         FORD   Escape        2011       Jeep   \n",
       "4  45809263  11726   446.000000        HONDA      FIT        2014  Hatchback   \n",
       "\n",
       "  Leather interior Fuel type  Engine volume  Mileage  Cylinders Gear box type  \\\n",
       "0              Yes    Hybrid            3.5   186005          6     Automatic   \n",
       "1               No    Petrol            3.0   192000          6     Tiptronic   \n",
       "2               No    Petrol            1.3   200000          4      Variator   \n",
       "3              Yes    Hybrid            2.5   168966          4     Automatic   \n",
       "4              Yes    Petrol            1.3    91901          4     Automatic   \n",
       "\n",
       "  Drive wheels  Doors             Wheel   Color  Airbags  has_turbo  \n",
       "0          4x4      4        Left wheel  Silver       12      False  \n",
       "1          4x4      4        Left wheel   Black        8      False  \n",
       "2        Front      4  Right-hand drive   Black        2      False  \n",
       "3          4x4      4        Left wheel   White        0      False  \n",
       "4        Front      4        Left wheel  Silver        4      False  "
      ]
     },
     "execution_count": 133,
     "metadata": {},
     "output_type": "execute_result"
    }
   ],
   "source": [
    "data.head()"
   ]
  },
  {
   "cell_type": "code",
   "execution_count": 134,
   "id": "f8a074eb",
   "metadata": {},
   "outputs": [
    {
     "data": {
      "text/plain": [
       "array([4, 2, 5])"
      ]
     },
     "execution_count": 134,
     "metadata": {},
     "output_type": "execute_result"
    }
   ],
   "source": [
    "data['Doors'].unique()"
   ]
  },
  {
   "cell_type": "markdown",
   "id": "6217f41a",
   "metadata": {},
   "source": [
    "### fix  Mileage"
   ]
  },
  {
   "cell_type": "code",
   "execution_count": 135,
   "id": "e367a408",
   "metadata": {},
   "outputs": [
    {
     "data": {
      "text/plain": [
       "0         559\n",
       "200000    144\n",
       "150000    139\n",
       "160000    112\n",
       "180000    103\n",
       "         ... \n",
       "56261       1\n",
       "67381       1\n",
       "92891       1\n",
       "67357       1\n",
       "186923      1\n",
       "Name: Mileage, Length: 6714, dtype: int64"
      ]
     },
     "execution_count": 135,
     "metadata": {},
     "output_type": "execute_result"
    }
   ],
   "source": [
    "data['Mileage'].value_counts()"
   ]
  },
  {
   "cell_type": "code",
   "execution_count": 136,
   "id": "663064e2",
   "metadata": {},
   "outputs": [
    {
     "ename": "AttributeError",
     "evalue": "Can only use .str accessor with string values!",
     "output_type": "error",
     "traceback": [
      "\u001b[0;31m---------------------------------------------------------------------------\u001b[0m",
      "\u001b[0;31mAttributeError\u001b[0m                            Traceback (most recent call last)",
      "Cell \u001b[0;32mIn[136], line 1\u001b[0m\n\u001b[0;32m----> 1\u001b[0m data[\u001b[38;5;124m'\u001b[39m\u001b[38;5;124mMileage\u001b[39m\u001b[38;5;124m'\u001b[39m]\u001b[38;5;241m=\u001b[39m\u001b[43mdata\u001b[49m\u001b[43m[\u001b[49m\u001b[38;5;124;43m'\u001b[39;49m\u001b[38;5;124;43mMileage\u001b[39;49m\u001b[38;5;124;43m'\u001b[39;49m\u001b[43m]\u001b[49m\u001b[38;5;241;43m.\u001b[39;49m\u001b[43mstr\u001b[49m\u001b[38;5;241m.\u001b[39msplit(\u001b[38;5;124m'\u001b[39m\u001b[38;5;124m \u001b[39m\u001b[38;5;124m'\u001b[39m)\u001b[38;5;241m.\u001b[39mstr\u001b[38;5;241m.\u001b[39mget(\u001b[38;5;241m0\u001b[39m)\n",
      "File \u001b[0;32m~/anaconda3/lib/python3.10/site-packages/pandas/core/generic.py:5902\u001b[0m, in \u001b[0;36mNDFrame.__getattr__\u001b[0;34m(self, name)\u001b[0m\n\u001b[1;32m   5895\u001b[0m \u001b[38;5;28;01mif\u001b[39;00m (\n\u001b[1;32m   5896\u001b[0m     name \u001b[38;5;129;01mnot\u001b[39;00m \u001b[38;5;129;01min\u001b[39;00m \u001b[38;5;28mself\u001b[39m\u001b[38;5;241m.\u001b[39m_internal_names_set\n\u001b[1;32m   5897\u001b[0m     \u001b[38;5;129;01mand\u001b[39;00m name \u001b[38;5;129;01mnot\u001b[39;00m \u001b[38;5;129;01min\u001b[39;00m \u001b[38;5;28mself\u001b[39m\u001b[38;5;241m.\u001b[39m_metadata\n\u001b[1;32m   5898\u001b[0m     \u001b[38;5;129;01mand\u001b[39;00m name \u001b[38;5;129;01mnot\u001b[39;00m \u001b[38;5;129;01min\u001b[39;00m \u001b[38;5;28mself\u001b[39m\u001b[38;5;241m.\u001b[39m_accessors\n\u001b[1;32m   5899\u001b[0m     \u001b[38;5;129;01mand\u001b[39;00m \u001b[38;5;28mself\u001b[39m\u001b[38;5;241m.\u001b[39m_info_axis\u001b[38;5;241m.\u001b[39m_can_hold_identifiers_and_holds_name(name)\n\u001b[1;32m   5900\u001b[0m ):\n\u001b[1;32m   5901\u001b[0m     \u001b[38;5;28;01mreturn\u001b[39;00m \u001b[38;5;28mself\u001b[39m[name]\n\u001b[0;32m-> 5902\u001b[0m \u001b[38;5;28;01mreturn\u001b[39;00m \u001b[38;5;28;43mobject\u001b[39;49m\u001b[38;5;241;43m.\u001b[39;49m\u001b[38;5;21;43m__getattribute__\u001b[39;49m\u001b[43m(\u001b[49m\u001b[38;5;28;43mself\u001b[39;49m\u001b[43m,\u001b[49m\u001b[43m \u001b[49m\u001b[43mname\u001b[49m\u001b[43m)\u001b[49m\n",
      "File \u001b[0;32m~/anaconda3/lib/python3.10/site-packages/pandas/core/accessor.py:182\u001b[0m, in \u001b[0;36mCachedAccessor.__get__\u001b[0;34m(self, obj, cls)\u001b[0m\n\u001b[1;32m    179\u001b[0m \u001b[38;5;28;01mif\u001b[39;00m obj \u001b[38;5;129;01mis\u001b[39;00m \u001b[38;5;28;01mNone\u001b[39;00m:\n\u001b[1;32m    180\u001b[0m     \u001b[38;5;66;03m# we're accessing the attribute of the class, i.e., Dataset.geo\u001b[39;00m\n\u001b[1;32m    181\u001b[0m     \u001b[38;5;28;01mreturn\u001b[39;00m \u001b[38;5;28mself\u001b[39m\u001b[38;5;241m.\u001b[39m_accessor\n\u001b[0;32m--> 182\u001b[0m accessor_obj \u001b[38;5;241m=\u001b[39m \u001b[38;5;28;43mself\u001b[39;49m\u001b[38;5;241;43m.\u001b[39;49m\u001b[43m_accessor\u001b[49m\u001b[43m(\u001b[49m\u001b[43mobj\u001b[49m\u001b[43m)\u001b[49m\n\u001b[1;32m    183\u001b[0m \u001b[38;5;66;03m# Replace the property with the accessor object. Inspired by:\u001b[39;00m\n\u001b[1;32m    184\u001b[0m \u001b[38;5;66;03m# https://www.pydanny.com/cached-property.html\u001b[39;00m\n\u001b[1;32m    185\u001b[0m \u001b[38;5;66;03m# We need to use object.__setattr__ because we overwrite __setattr__ on\u001b[39;00m\n\u001b[1;32m    186\u001b[0m \u001b[38;5;66;03m# NDFrame\u001b[39;00m\n\u001b[1;32m    187\u001b[0m \u001b[38;5;28mobject\u001b[39m\u001b[38;5;241m.\u001b[39m\u001b[38;5;21m__setattr__\u001b[39m(obj, \u001b[38;5;28mself\u001b[39m\u001b[38;5;241m.\u001b[39m_name, accessor_obj)\n",
      "File \u001b[0;32m~/anaconda3/lib/python3.10/site-packages/pandas/core/strings/accessor.py:181\u001b[0m, in \u001b[0;36mStringMethods.__init__\u001b[0;34m(self, data)\u001b[0m\n\u001b[1;32m    178\u001b[0m \u001b[38;5;28;01mdef\u001b[39;00m \u001b[38;5;21m__init__\u001b[39m(\u001b[38;5;28mself\u001b[39m, data) \u001b[38;5;241m-\u001b[39m\u001b[38;5;241m>\u001b[39m \u001b[38;5;28;01mNone\u001b[39;00m:\n\u001b[1;32m    179\u001b[0m     \u001b[38;5;28;01mfrom\u001b[39;00m \u001b[38;5;21;01mpandas\u001b[39;00m\u001b[38;5;21;01m.\u001b[39;00m\u001b[38;5;21;01mcore\u001b[39;00m\u001b[38;5;21;01m.\u001b[39;00m\u001b[38;5;21;01marrays\u001b[39;00m\u001b[38;5;21;01m.\u001b[39;00m\u001b[38;5;21;01mstring_\u001b[39;00m \u001b[38;5;28;01mimport\u001b[39;00m StringDtype\n\u001b[0;32m--> 181\u001b[0m     \u001b[38;5;28mself\u001b[39m\u001b[38;5;241m.\u001b[39m_inferred_dtype \u001b[38;5;241m=\u001b[39m \u001b[38;5;28;43mself\u001b[39;49m\u001b[38;5;241;43m.\u001b[39;49m\u001b[43m_validate\u001b[49m\u001b[43m(\u001b[49m\u001b[43mdata\u001b[49m\u001b[43m)\u001b[49m\n\u001b[1;32m    182\u001b[0m     \u001b[38;5;28mself\u001b[39m\u001b[38;5;241m.\u001b[39m_is_categorical \u001b[38;5;241m=\u001b[39m is_categorical_dtype(data\u001b[38;5;241m.\u001b[39mdtype)\n\u001b[1;32m    183\u001b[0m     \u001b[38;5;28mself\u001b[39m\u001b[38;5;241m.\u001b[39m_is_string \u001b[38;5;241m=\u001b[39m \u001b[38;5;28misinstance\u001b[39m(data\u001b[38;5;241m.\u001b[39mdtype, StringDtype)\n",
      "File \u001b[0;32m~/anaconda3/lib/python3.10/site-packages/pandas/core/strings/accessor.py:235\u001b[0m, in \u001b[0;36mStringMethods._validate\u001b[0;34m(data)\u001b[0m\n\u001b[1;32m    232\u001b[0m inferred_dtype \u001b[38;5;241m=\u001b[39m lib\u001b[38;5;241m.\u001b[39minfer_dtype(values, skipna\u001b[38;5;241m=\u001b[39m\u001b[38;5;28;01mTrue\u001b[39;00m)\n\u001b[1;32m    234\u001b[0m \u001b[38;5;28;01mif\u001b[39;00m inferred_dtype \u001b[38;5;129;01mnot\u001b[39;00m \u001b[38;5;129;01min\u001b[39;00m allowed_types:\n\u001b[0;32m--> 235\u001b[0m     \u001b[38;5;28;01mraise\u001b[39;00m \u001b[38;5;167;01mAttributeError\u001b[39;00m(\u001b[38;5;124m\"\u001b[39m\u001b[38;5;124mCan only use .str accessor with string values!\u001b[39m\u001b[38;5;124m\"\u001b[39m)\n\u001b[1;32m    236\u001b[0m \u001b[38;5;28;01mreturn\u001b[39;00m inferred_dtype\n",
      "\u001b[0;31mAttributeError\u001b[0m: Can only use .str accessor with string values!"
     ]
    }
   ],
   "source": [
    "data['Mileage']=data['Mileage'].str.split(' ').str.get(0)"
   ]
  },
  {
   "cell_type": "code",
   "execution_count": null,
   "id": "b2374d92",
   "metadata": {},
   "outputs": [],
   "source": [
    "data['Mileage']=data['Mileage'].astype(int)\n",
    "data[\"Mileage\"].head()\n"
   ]
  },
  {
   "cell_type": "code",
   "execution_count": null,
   "id": "7f2d3c20",
   "metadata": {},
   "outputs": [],
   "source": [
    "data.head()"
   ]
  },
  {
   "cell_type": "markdown",
   "id": "d31183a8",
   "metadata": {},
   "source": [
    "### fix Engine volume"
   ]
  },
  {
   "cell_type": "code",
   "execution_count": null,
   "id": "e2ce2fe4",
   "metadata": {},
   "outputs": [],
   "source": [
    "data['Engine volume'].value_counts()"
   ]
  },
  {
   "cell_type": "code",
   "execution_count": null,
   "id": "5e7421b6",
   "metadata": {},
   "outputs": [],
   "source": [
    "data['Engine volume'] = data['Engine volume'].str.lower()\n",
    "data[\"has_turbo\"] = data[\"Engine volume\"].str.contains(\"turbo\")"
   ]
  },
  {
   "cell_type": "code",
   "execution_count": null,
   "id": "f21e6d5b",
   "metadata": {},
   "outputs": [],
   "source": [
    "data['Engine volume']=data['Engine volume'].str.split(' ').str.get(0)"
   ]
  },
  {
   "cell_type": "code",
   "execution_count": null,
   "id": "7e4fee3c",
   "metadata": {},
   "outputs": [],
   "source": [
    "data['Engine volume']=data['Engine volume'].astype(float)\n",
    "data[\"Engine volume\"].head()"
   ]
  },
  {
   "cell_type": "code",
   "execution_count": null,
   "id": "a5dfd0a9",
   "metadata": {},
   "outputs": [],
   "source": [
    "data.head()"
   ]
  },
  {
   "cell_type": "code",
   "execution_count": null,
   "id": "24055a29",
   "metadata": {},
   "outputs": [],
   "source": [
    "data.head()"
   ]
  },
  {
   "cell_type": "code",
   "execution_count": null,
   "id": "2140192a",
   "metadata": {},
   "outputs": [],
   "source": [
    "data.info()"
   ]
  },
  {
   "cell_type": "code",
   "execution_count": null,
   "id": "1ec357bb",
   "metadata": {},
   "outputs": [],
   "source": [
    "data['Cylinders']=data['Cylinders'].astype(int)"
   ]
  },
  {
   "cell_type": "code",
   "execution_count": null,
   "id": "b35bded3",
   "metadata": {},
   "outputs": [],
   "source": [
    "data.head()"
   ]
  },
  {
   "cell_type": "code",
   "execution_count": null,
   "id": "6ce6208f",
   "metadata": {},
   "outputs": [],
   "source": [
    "data.describe()"
   ]
  },
  {
   "cell_type": "code",
   "execution_count": null,
   "id": "b9fb91c4",
   "metadata": {},
   "outputs": [],
   "source": [
    "column_to_analyze = 'Price'\n",
    "\n",
    "# Define the function to extract the values of outliers using IQR for the specified column\n",
    "def get_outliers_iqr(data, column):\n",
    "    Q1 = data[column].quantile(0.25)\n",
    "    Q3 = data[column].quantile(0.75)\n",
    "    IQR = Q3 - Q1\n",
    "    lower_bound = Q1 - 1.5 * IQR\n",
    "    upper_bound = Q3 + 1.5 * IQR\n",
    "    outliers = data[(data[column] < lower_bound) | (data[column] > upper_bound)]\n",
    "    return outliers[column].values\n",
    "\n",
    "# Extract the values of outliers in the specified column using IQR\n",
    "column_outliers = get_outliers_iqr(data, column_to_analyze)\n",
    "\n",
    "# Print the values of outliers\n",
    "print(\"Outliers in\", column_to_analyze, \":\\n\", column_outliers)\n",
    "\n",
    "# #import libraries\n",
    "# import numpy as np\n",
    "# mean = np.mean(data['Price'])\n",
    "# std = np.std(data['Price'])\n",
    "# print('mean of the price is', mean)\n",
    "# print('std. deviation is', std)\n",
    "# threshold = 3\n",
    "# outlier = []\n",
    "# for i in data['Price']:\n",
    "#     z = (i-mean)/std\n",
    "#     if z > threshold:\n",
    "#         outlier.append(i)\n",
    "# print('outlier in dataset is', outlier)"
   ]
  },
  {
   "cell_type": "code",
   "execution_count": null,
   "id": "5b695e21",
   "metadata": {},
   "outputs": [],
   "source": [
    "column_to_analyze = 'Price'\n",
    "\n",
    "# Define the function to remove outliers using IQR for the specified column\n",
    "def remove_outliers_iqr(data, column):\n",
    "    Q1 = data[column].quantile(0.25)\n",
    "    Q3 = data[column].quantile(0.75)\n",
    "    IQR = Q3 - Q1\n",
    "    lower_bound = Q1 - 1.5 * IQR\n",
    "    upper_bound = Q3 + 1.5 * IQR\n",
    "    return data[(data[column] >= lower_bound) & (data[column] <= upper_bound)]\n",
    "\n",
    "# Remove outliers from the specified column using IQR\n",
    "data = remove_outliers_iqr(data, column_to_analyze)\n",
    "\n",
    "# Print the dataset without outliers in the specified column\n",
    "print(\"Dataset without outliers in\", column_to_analyze, \":\\n\", data)"
   ]
  },
  {
   "cell_type": "code",
   "execution_count": null,
   "id": "d6312087",
   "metadata": {},
   "outputs": [],
   "source": [
    "data.describe()"
   ]
  },
  {
   "cell_type": "code",
   "execution_count": null,
   "id": "3822b08c",
   "metadata": {},
   "outputs": [],
   "source": [
    "column_to_analyze = 'Mileage'\n",
    "\n",
    "# Define the function to extract the values of outliers using IQR for the specified column\n",
    "def get_outliers_iqr(data, column):\n",
    "    Q1 = data[column].quantile(0.25)\n",
    "    Q3 = data[column].quantile(0.75)\n",
    "    IQR = Q3 - Q1\n",
    "    lower_bound = Q1 - 1.5 * IQR\n",
    "    upper_bound = Q3 + 1.5 * IQR\n",
    "    outliers = data[(data[column] < lower_bound) | (data[column] > upper_bound)]\n",
    "    return outliers[column].values\n",
    "\n",
    "# Extract the values of outliers in the specified column using IQR\n",
    "column_outliers = get_outliers_iqr(data, column_to_analyze)\n",
    "\n",
    "# Print the values of outliers\n",
    "print(\"Outliers in\", column_to_analyze, \":\\n\", column_outliers)"
   ]
  },
  {
   "cell_type": "code",
   "execution_count": null,
   "id": "96001243",
   "metadata": {
    "scrolled": true
   },
   "outputs": [],
   "source": [
    "column_to_analyze = 'Mileage'\n",
    "\n",
    "# Define the function to remove outliers using IQR for the specified column\n",
    "def remove_outliers_iqr(data, column):\n",
    "    Q1 = data[column].quantile(0.25)\n",
    "    Q3 = data[column].quantile(0.75)\n",
    "    IQR = Q3 - Q1\n",
    "    lower_bound = Q1 - 1.5 * IQR\n",
    "    upper_bound = Q3 + 1.5 * IQR\n",
    "    return data[(data[column] >= lower_bound) & (data[column] <= upper_bound)]\n",
    "\n",
    "# Remove outliers from the specified column using IQR\n",
    "data = remove_outliers_iqr(data, column_to_analyze)\n",
    "\n",
    "# Print the dataset without outliers in the specified column\n",
    "print(\"Dataset without outliers in\", column_to_analyze, \":\\n\", data)"
   ]
  },
  {
   "cell_type": "code",
   "execution_count": null,
   "id": "c6d8afc9",
   "metadata": {},
   "outputs": [],
   "source": [
    "data.describe()"
   ]
  },
  {
   "cell_type": "code",
   "execution_count": null,
   "id": "2e01d26c",
   "metadata": {
    "scrolled": true
   },
   "outputs": [],
   "source": [
    "data.head()"
   ]
  },
  {
   "cell_type": "markdown",
   "id": "fad33db2",
   "metadata": {},
   "source": [
    "## Visulization and Analysis"
   ]
  },
  {
   "cell_type": "code",
   "execution_count": null,
   "id": "64e0437f",
   "metadata": {
    "scrolled": true
   },
   "outputs": [],
   "source": [
    "mileage = data['Mileage']\n",
    "prod_year = data['Prod. year']\n",
    "\n",
    "# Create a scatter plot\n",
    "plt.scatter(prod_year, mileage)\n",
    "plt.xlabel('Prod. year')\n",
    "plt.ylabel('Mileage')\n",
    "plt.title('Relationship between Mileage and Prod. year')\n",
    "plt.show()"
   ]
  },
  {
   "cell_type": "code",
   "execution_count": null,
   "id": "4844d87d",
   "metadata": {},
   "outputs": [],
   "source": [
    "prod_year = data['Prod. year']\n",
    "price = data['Price']\n",
    "\n",
    "# Create a scatter plot\n",
    "plt.scatter(prod_year, price)\n",
    "plt.xlabel('Prod. year')\n",
    "plt.ylabel('Price')\n",
    "plt.title('Relationship between Prod. year and Price')\n",
    "\n",
    "# Calculate the correlation coefficient\n",
    "correlation_coefficient = data['Prod. year'].corr(data['Price'])\n",
    "print('Correlation coefficient:', correlation_coefficient)\n",
    "\n",
    "# Add the correlation coefficient to the plot\n",
    "plt.text(0.1, 0.9, f'Correlation: {correlation_coefficient:.2f}', transform=plt.gca().transAxes)\n",
    "\n",
    "# Show the plot\n",
    "plt.show()"
   ]
  },
  {
   "cell_type": "code",
   "execution_count": null,
   "id": "db833d5e",
   "metadata": {},
   "outputs": [],
   "source": [
    "data = data[data['Prod. year'] >= 2000]\n"
   ]
  },
  {
   "cell_type": "code",
   "execution_count": null,
   "id": "a89c6f3f",
   "metadata": {},
   "outputs": [],
   "source": [
    "sns.heatmap(data.corr(),annot=True)"
   ]
  },
  {
   "cell_type": "code",
   "execution_count": null,
   "id": "81b63af7",
   "metadata": {},
   "outputs": [],
   "source": [
    "sns.set(rc={'figure.figsize':[10,10]},font_scale=0.9)\n",
    "\n",
    "sns.countplot(y='Manufacturer',data=data)"
   ]
  },
  {
   "cell_type": "code",
   "execution_count": null,
   "id": "433c7352",
   "metadata": {},
   "outputs": [],
   "source": [
    "sns.boxplot(x='Price',data=data)"
   ]
  },
  {
   "cell_type": "code",
   "execution_count": null,
   "id": "f08b6a92",
   "metadata": {},
   "outputs": [],
   "source": [
    "sns.kdeplot(data=data['Cylinders'], shade=True)"
   ]
  },
  {
   "cell_type": "code",
   "execution_count": null,
   "id": "a6aa8b16",
   "metadata": {},
   "outputs": [],
   "source": [
    "sns.scatterplot(x=data['Mileage'], y=data['Price'])"
   ]
  },
  {
   "cell_type": "markdown",
   "id": "e3edbdcd",
   "metadata": {},
   "source": [
    "# Machine learning"
   ]
  },
  {
   "cell_type": "code",
   "execution_count": null,
   "id": "7e3b9953",
   "metadata": {},
   "outputs": [],
   "source": [
    "import pandas as pd\n",
    "from sklearn.model_selection import train_test_split\n",
    "from sklearn.linear_model import LinearRegression\n",
    "from sklearn.compose import ColumnTransformer\n",
    "from sklearn.preprocessing import OneHotEncoder\n",
    "\n",
    "selected_features = ['Prod. year', 'Mileage', 'Engine volume', 'Cylinders', 'Doors','Airbags' ,'has_turbo' ]\n",
    "X = data[selected_features]\n",
    "y = data['Price']\n",
    "\n",
    "\n",
    "X_train, X_test, y_train, y_test = train_test_split(X, y, test_size=0.33, random_state=42)\n",
    "\n",
    "model = LinearRegression()\n",
    "model.fit(X_train, y_train)\n",
    "\n",
    "print('Train Set Score:', model.score(X_train, y_train))\n",
    "print('Test Set Score:', model.score(X_test, y_test))"
   ]
  },
  {
   "cell_type": "markdown",
   "id": "90b22021",
   "metadata": {},
   "source": [
    "## 1-What is the maximum price of a car in the dataset?"
   ]
  },
  {
   "cell_type": "code",
   "execution_count": null,
   "id": "8ffafe69",
   "metadata": {},
   "outputs": [],
   "source": [
    "max_price = data['Price'].max()\n",
    "print(\"Maximum price of a car:\", max_price)\n"
   ]
  },
  {
   "cell_type": "markdown",
   "id": "29dd9042",
   "metadata": {},
   "source": [
    "## 2-What is the minimum price of a car in the dataset?"
   ]
  },
  {
   "cell_type": "code",
   "execution_count": null,
   "id": "41cb13a5",
   "metadata": {},
   "outputs": [],
   "source": [
    "min_price = data['Price'].min()\n",
    "print(\"Minimum price of a car:\", min_price)\n"
   ]
  },
  {
   "cell_type": "markdown",
   "id": "e747706f",
   "metadata": {},
   "source": [
    "## 3-What is the average price of cars in the dataset?"
   ]
  },
  {
   "cell_type": "code",
   "execution_count": null,
   "id": "9aa17b12",
   "metadata": {},
   "outputs": [],
   "source": [
    "avg_price = data['Price'].mean()\n",
    "print(\"Average price of cars:\", avg_price)\n"
   ]
  },
  {
   "cell_type": "markdown",
   "id": "5de4993c",
   "metadata": {},
   "source": [
    "## 4-How many cars have leather interior?"
   ]
  },
  {
   "cell_type": "code",
   "execution_count": null,
   "id": "1dd85dc1",
   "metadata": {},
   "outputs": [],
   "source": [
    "num_cars_with_leather = len(data[data['Leather interior'] == 'Yes'])\n",
    "print(\"Number of cars with leather interior:\", num_cars_with_leather)\n"
   ]
  },
  {
   "cell_type": "markdown",
   "id": "dc15432c",
   "metadata": {},
   "source": [
    "## 5-What is the most common category of cars in the dataset?"
   ]
  },
  {
   "cell_type": "code",
   "execution_count": null,
   "id": "c1267f02",
   "metadata": {},
   "outputs": [],
   "source": [
    "most_common_category = data['Category'].mode()[0]\n",
    "print(\"Most common category of cars:\", most_common_category)\n"
   ]
  },
  {
   "cell_type": "markdown",
   "id": "238292bf",
   "metadata": {},
   "source": [
    "## 6- What is the least common category of cars in the dataset?"
   ]
  },
  {
   "cell_type": "code",
   "execution_count": null,
   "id": "857be9a9",
   "metadata": {},
   "outputs": [],
   "source": [
    "least_common_category = data['Category'].value_counts().idxmin()\n",
    "print(\"Least common category of cars:\", least_common_category)\n"
   ]
  },
  {
   "cell_type": "markdown",
   "id": "282a9282",
   "metadata": {},
   "source": [
    "## 7- What is the average mileage of cars in the dataset?"
   ]
  },
  {
   "cell_type": "code",
   "execution_count": null,
   "id": "a460e2ae",
   "metadata": {},
   "outputs": [],
   "source": [
    "avg_mileage = data['Mileage'].mean()\n",
    "print(\"Average mileage of cars:\", avg_mileage)\n",
    "## 6- \n"
   ]
  },
  {
   "cell_type": "markdown",
   "id": "07680b26",
   "metadata": {},
   "source": [
    "## 8- What is the maximum engine volume in the dataset?"
   ]
  },
  {
   "cell_type": "code",
   "execution_count": null,
   "id": "af3fa545",
   "metadata": {},
   "outputs": [],
   "source": [
    "max_engine_volume = data['Engine volume'].max()\n",
    "print(\"Maximum engine volume:\", max_engine_volume)\n"
   ]
  },
  {
   "cell_type": "markdown",
   "id": "f221f224",
   "metadata": {},
   "source": [
    "## 9-What is the maximum levy of a car in the dataset?"
   ]
  },
  {
   "cell_type": "code",
   "execution_count": null,
   "id": "f6fc909f",
   "metadata": {},
   "outputs": [],
   "source": [
    "max_levy = data['Levy'].max()\n",
    "print(\"Maximum levy of a car:\", max_levy)\n"
   ]
  },
  {
   "cell_type": "markdown",
   "id": "a83464ae",
   "metadata": {},
   "source": [
    "## 10-What is the min levy of a car in the dataset?"
   ]
  },
  {
   "cell_type": "code",
   "execution_count": null,
   "id": "7c0aa1a5",
   "metadata": {},
   "outputs": [],
   "source": [
    "min_levy = data['Levy'].min()\n",
    "print(\"Minimum levy of a car:\", min_levy)\n"
   ]
  },
  {
   "cell_type": "markdown",
   "id": "00525dd0",
   "metadata": {},
   "source": [
    "## 11-What is the average levy of cars in the dataset?"
   ]
  },
  {
   "cell_type": "code",
   "execution_count": null,
   "id": "d16b0168",
   "metadata": {},
   "outputs": [],
   "source": [
    "avg_levy = data['Levy'].mean()\n",
    "print(\"Average levy of cars:\", avg_levy)\n"
   ]
  },
  {
   "cell_type": "markdown",
   "id": "032b5aba",
   "metadata": {},
   "source": [
    "## 12-What is the most common manufaeturer of cars in the dataset?"
   ]
  },
  {
   "cell_type": "code",
   "execution_count": null,
   "id": "3f462540",
   "metadata": {},
   "outputs": [],
   "source": [
    "most_common_manufacturer = data['Manufacturer'].mode()[0]\n",
    "print(\"Most common manufacturer of cars:\", most_common_manufacturer)\n"
   ]
  },
  {
   "cell_type": "markdown",
   "id": "86f3bbcb",
   "metadata": {},
   "source": [
    "## 13-What is the least common manufaeturer of cars in the dataset?"
   ]
  },
  {
   "cell_type": "code",
   "execution_count": null,
   "id": "84151a77",
   "metadata": {},
   "outputs": [],
   "source": [
    "least_common_manufacturer = data['Manufacturer'].value_counts().idxmin()\n",
    "print(\"Least common manufacturer of cars:\", least_common_manufacturer)\n"
   ]
  },
  {
   "cell_type": "markdown",
   "id": "01950dc8",
   "metadata": {},
   "source": [
    "## 14-What is the most common model of cars in the dataset?"
   ]
  },
  {
   "cell_type": "code",
   "execution_count": null,
   "id": "a9b6cb1c",
   "metadata": {},
   "outputs": [],
   "source": [
    "most_common_model = data['Model'].mode()[0]\n",
    "print(\"Most common model of cars:\", most_common_model)\n"
   ]
  },
  {
   "cell_type": "markdown",
   "id": "5434cdb1",
   "metadata": {},
   "source": [
    "## 15-What is the least common model of cars in the dataset?"
   ]
  },
  {
   "cell_type": "code",
   "execution_count": null,
   "id": "628fd93b",
   "metadata": {},
   "outputs": [],
   "source": [
    "least_common_model = data['Model'].value_counts().idxmin()\n",
    "print(\"Least common model of cars:\", least_common_model)\n"
   ]
  },
  {
   "cell_type": "markdown",
   "id": "58980dd7",
   "metadata": {},
   "source": [
    "## 16-What is the most common wheel of cars in the dataset?"
   ]
  },
  {
   "cell_type": "code",
   "execution_count": null,
   "id": "479afe9f",
   "metadata": {},
   "outputs": [],
   "source": [
    "most_common_wheel = data['Wheel'].mode()[0]\n",
    "print(\"Most common wheel of cars:\", most_common_wheel)\n"
   ]
  },
  {
   "cell_type": "markdown",
   "id": "833e29d1",
   "metadata": {},
   "source": [
    "## 17-What is the most common wheel of cars in the dataset?"
   ]
  },
  {
   "cell_type": "code",
   "execution_count": null,
   "id": "b6905f28",
   "metadata": {},
   "outputs": [],
   "source": [
    "most_common_color = data['Color'].mode()[0]\n",
    "print(\"Most common color of cars:\", most_common_color)\n"
   ]
  },
  {
   "cell_type": "markdown",
   "id": "1779bd80",
   "metadata": {},
   "source": [
    "## 18-What is the least common model of color in the dataset?"
   ]
  },
  {
   "cell_type": "code",
   "execution_count": null,
   "id": "08e20c26",
   "metadata": {},
   "outputs": [],
   "source": [
    "least_common_color = data['Color'].value_counts().idxmin()\n",
    "print(\"Least common color of cars:\", least_common_color)\n"
   ]
  },
  {
   "cell_type": "markdown",
   "id": "1fddeb44",
   "metadata": {},
   "source": [
    "## 19-What is the average airbags of cars in the dataset?"
   ]
  },
  {
   "cell_type": "code",
   "execution_count": null,
   "id": "46f7e82f",
   "metadata": {},
   "outputs": [],
   "source": [
    "avg_airbags = data['Airbags'].mean()\n",
    "print(\"Average airbags of cars:\", avg_airbags)\n"
   ]
  },
  {
   "cell_type": "markdown",
   "id": "d391e2f2",
   "metadata": {},
   "source": [
    "## 20-What is the most common fuel type of color in the dataset?"
   ]
  },
  {
   "cell_type": "code",
   "execution_count": null,
   "id": "cdf6f20b",
   "metadata": {},
   "outputs": [],
   "source": [
    "most_common_fuel_type = data['Fuel type'].mode()[0]\n",
    "print(\"Most common fuel type of cars:\", most_common_fuel_type)\n"
   ]
  },
  {
   "cell_type": "markdown",
   "id": "d360ac17",
   "metadata": {},
   "source": [
    "## 21-What is the least common fuel type of color in the dataset?"
   ]
  },
  {
   "cell_type": "code",
   "execution_count": null,
   "id": "f50d5bb4",
   "metadata": {},
   "outputs": [],
   "source": [
    "least_common_fuel_type = data['Fuel type'].value_counts().idxmin()\n",
    "print(\"Least common fuel type of cars:\", least_common_fuel_type)\n"
   ]
  },
  {
   "cell_type": "markdown",
   "id": "d3385df3",
   "metadata": {},
   "source": [
    "## 22-What is the average mileage of cars in the dataset?"
   ]
  },
  {
   "cell_type": "code",
   "execution_count": null,
   "id": "5d53fa73",
   "metadata": {},
   "outputs": [],
   "source": [
    "avg_mileage = data['Mileage'].mean()\n",
    "print(\"Average mileage of cars:\", avg_mileage)\n"
   ]
  },
  {
   "cell_type": "markdown",
   "id": "355f864f",
   "metadata": {},
   "source": [
    "## correlations between engine volem and price"
   ]
  },
  {
   "cell_type": "code",
   "execution_count": null,
   "id": "ecf06a17",
   "metadata": {},
   "outputs": [],
   "source": [
    "engine_price_corr = data['Engine volume'].corr(data['Price'])\n",
    "if engine_price_corr<0 :\n",
    " print(\"Correlation between engine volume and price: is negitev correlation\")\n",
    "if engine_price_corr>0 :\n",
    " print(\"Correlation between engine volume and price: is postiev correlation\")\n"
   ]
  },
  {
   "cell_type": "markdown",
   "id": "6e2a7471",
   "metadata": {},
   "source": [
    "## correlations between cylinder and price"
   ]
  },
  {
   "cell_type": "code",
   "execution_count": null,
   "id": "bd24dbef",
   "metadata": {},
   "outputs": [],
   "source": [
    "year_price_corr = data['Prod. year'].corr(data['Price'])\n",
    "\n",
    "if year_price_corr<0 :\n",
    " print(\"Correlation between production year and price: is negitev correlation\")\n",
    "if year_price_corr>0 :\n",
    " print(\"Correlation between production year and price: is postiev correlation\")\n"
   ]
  },
  {
   "cell_type": "markdown",
   "id": "3374f6c1",
   "metadata": {},
   "source": [
    "## correlations between airbagr and price"
   ]
  },
  {
   "cell_type": "code",
   "execution_count": null,
   "id": "d3e35008",
   "metadata": {},
   "outputs": [],
   "source": [
    "turbo_price_corr = data['has_turbo'].corr(data['Price'])\n",
    "if turbo_price_corr<0 :\n",
    " print(\"Correlation between turbo and price: is negitev correlation\")\n",
    "if turbo_price_corr>0 :\n",
    " print(\"Correlation between turbo and price: is postiev correlation\")"
   ]
  },
  {
   "cell_type": "markdown",
   "id": "f8cd0813",
   "metadata": {},
   "source": [
    "## correlations between drive whells and price"
   ]
  },
  {
   "cell_type": "code",
   "execution_count": null,
   "id": "046c90f3",
   "metadata": {},
   "outputs": [],
   "source": [
    "mile_price_corr = data['Mileage'].corr(data['Price'])\n",
    "if mile_price_corr<0 :\n",
    " print(\"Correlation between mileage and price: is negitev correlation\")\n",
    "if mile_price_corr>0 :\n",
    " print(\"Correlation between mileage and price: is postiev correlation\")"
   ]
  },
  {
   "cell_type": "markdown",
   "id": "1f2c9fea",
   "metadata": {},
   "source": [
    "## correlations between gear box and price "
   ]
  },
  {
   "cell_type": "code",
   "execution_count": null,
   "id": "90cdbc16",
   "metadata": {},
   "outputs": [],
   "source": [
    "engine_cylinders_corr = data['Engine volume'].corr(data['Cylinders'])\n",
    "if engine_cylinders_corr<0 :\n",
    " print(\"Correlation between engine volume and cylinders:: is negitev correlation\")\n",
    "if engine_cylinders_corr>0 :\n",
    " print(\"Correlation between engine volume and cylinders:: is postiev correlation\")"
   ]
  },
  {
   "cell_type": "markdown",
   "id": "6be06183",
   "metadata": {},
   "source": [
    "## correlations between mile and price "
   ]
  },
  {
   "cell_type": "code",
   "execution_count": null,
   "id": "34b75e8a",
   "metadata": {},
   "outputs": [],
   "source": [
    "mile_year_corr = data['Mileage'].corr(data['Prod. year'])\n",
    "if mile_year_corr<0 :\n",
    " print(\"Correlation between mileage and production year: is negitev correlation\")\n",
    "if mile_year_corr>0 :\n",
    " print(\"Correlation between mileage and production year: is postiev correlation\")"
   ]
  },
  {
   "cell_type": "markdown",
   "id": "cb8dbcbf",
   "metadata": {},
   "source": [
    "## What is the most common girbox in the dataset?"
   ]
  },
  {
   "cell_type": "code",
   "execution_count": null,
   "id": "8738e008",
   "metadata": {},
   "outputs": [],
   "source": [
    "most_common_gearbox = data['Gear box type'].mode()[0]\n",
    "print(\"Most common gearbox type:\", most_common_gearbox)\n"
   ]
  },
  {
   "cell_type": "markdown",
   "id": "35044719",
   "metadata": {},
   "source": [
    "## What is the least common girbox in the dataset"
   ]
  },
  {
   "cell_type": "code",
   "execution_count": null,
   "id": "4822928c",
   "metadata": {},
   "outputs": [],
   "source": [
    "least_common_gearbox = data['Gear box type'].value_counts().idxmin()\n",
    "print(\"Least common gearbox type:\", least_common_gearbox)\n"
   ]
  },
  {
   "cell_type": "markdown",
   "id": "9eb27b2e",
   "metadata": {},
   "source": [
    "## What is the most common drive wheels  in the dataset?"
   ]
  },
  {
   "cell_type": "code",
   "execution_count": null,
   "id": "737340c9",
   "metadata": {},
   "outputs": [],
   "source": [
    "most_common_drive_wheels = data['Drive wheels'].mode()[0]\n",
    "print(\"Most common drive wheels:\", most_common_drive_wheels)\n"
   ]
  },
  {
   "cell_type": "markdown",
   "id": "1dcbd40c",
   "metadata": {},
   "source": [
    "## What is the least common drive wheels in the dataset?"
   ]
  },
  {
   "cell_type": "code",
   "execution_count": null,
   "id": "ebc33e06",
   "metadata": {},
   "outputs": [],
   "source": [
    "least_common_drive_wheels = data['Drive wheels'].value_counts().idxmin()\n",
    "print(\"Least common drive wheels:\", least_common_drive_wheels)\n"
   ]
  },
  {
   "cell_type": "markdown",
   "id": "93c2f48d",
   "metadata": {},
   "source": [
    "## What is the average engine volume of cars with 4 cylinders?"
   ]
  },
  {
   "cell_type": "code",
   "execution_count": null,
   "id": "182df6e2",
   "metadata": {},
   "outputs": [],
   "source": [
    "avg_engine_volume_4_cyl = data[data['Cylinders'] == 4]['Engine volume'].mean()\n",
    "print(\"Average engine volume of cars with 4 cylinders:\", avg_engine_volume_4_cyl)\n"
   ]
  },
  {
   "cell_type": "markdown",
   "id": "e5522c6d",
   "metadata": {},
   "source": [
    "## How many cars have a price higher than the average price in the dataset?"
   ]
  },
  {
   "cell_type": "code",
   "execution_count": null,
   "id": "f1a03751",
   "metadata": {},
   "outputs": [],
   "source": [
    "num_cars_above_avg_price = len(data[data['Price'] > avg_price])\n",
    "print(\"Number of cars with a price higher than the average:\", num_cars_above_avg_price)\n"
   ]
  },
  {
   "cell_type": "markdown",
   "id": "9685bec6",
   "metadata": {},
   "source": [
    "## What is the average price of cars with a fuel type of 'Hybrid'?"
   ]
  },
  {
   "cell_type": "code",
   "execution_count": null,
   "id": "89291ac3",
   "metadata": {},
   "outputs": [],
   "source": [
    "avg_price_hybrid = data[data['Fuel type'] == 'Hybrid']['Price'].mean()\n",
    "print(\"Average price of cars with a fuel type of 'Hybrid':\", avg_price_hybrid)\n"
   ]
  },
  {
   "cell_type": "markdown",
   "id": "f655e913",
   "metadata": {},
   "source": [
    "## What is the average price of cars produced after the year 2015?"
   ]
  },
  {
   "cell_type": "code",
   "execution_count": null,
   "id": "cc7f9988",
   "metadata": {},
   "outputs": [],
   "source": [
    "avg_price_after_2015 = data[data['Prod. year'] > 2015]['Price'].mean()\n",
    "print(\"Average price of cars produced after the year 2015:\", avg_price_after_2015)\n"
   ]
  },
  {
   "cell_type": "markdown",
   "id": "fcc9f4a1",
   "metadata": {},
   "source": [
    "## How many cars have a price between $10,000 and $20,000?"
   ]
  },
  {
   "cell_type": "code",
   "execution_count": null,
   "id": "c73f19c1",
   "metadata": {},
   "outputs": [],
   "source": [
    "num_cars_between_10k_20k = len(data[(data['Price'] >= 10000) & (data['Price'] <= 20000)])\n",
    "print(\"Number of cars with a price between $10,000 and $20,000:\", num_cars_between_10k_20k)\n"
   ]
  },
  {
   "cell_type": "markdown",
   "id": "699490af",
   "metadata": {},
   "source": [
    "## What is the average mileage of cars produced in the year 2018?"
   ]
  },
  {
   "cell_type": "code",
   "execution_count": null,
   "id": "14078b3a",
   "metadata": {},
   "outputs": [],
   "source": [
    "avg_mileage_2018 = data[data['Prod. year'] == 2018]['Mileage'].mean()\n",
    "print(\"Average mileage of cars produced in the year 2018:\", avg_mileage_2018)\n"
   ]
  },
  {
   "cell_type": "markdown",
   "id": "d63d505d",
   "metadata": {},
   "source": [
    "## What is the average price of cars with a 'Category' value of 'Sedan'?"
   ]
  },
  {
   "cell_type": "code",
   "execution_count": null,
   "id": "4baa1d30",
   "metadata": {},
   "outputs": [],
   "source": [
    "avg_price_sedan = data[data['Category'] == 'Sedan']['Price'].mean()\n",
    "print(\"Average price of cars with a 'Category' value of 'Sedan':\", avg_price_sedan)\n"
   ]
  },
  {
   "cell_type": "markdown",
   "id": "5fa15f4c",
   "metadata": {},
   "source": [
    "## How many cars have a 'Levy' value greater than 1500?"
   ]
  },
  {
   "cell_type": "code",
   "execution_count": null,
   "id": "fe00bb15",
   "metadata": {},
   "outputs": [],
   "source": [
    "num_cars_levy_gt_1500 = len(data[data['Levy'] > 1500])\n",
    "print(\"Number of cars with a 'Levy' value greater than 1500:\", num_cars_levy_gt_1500)\n"
   ]
  },
  {
   "cell_type": "markdown",
   "id": "633c0503",
   "metadata": {},
   "source": [
    "## What is the average price of cars with a 'Drive wheels' value of '4x4'?"
   ]
  },
  {
   "cell_type": "code",
   "execution_count": null,
   "id": "3cf81160",
   "metadata": {},
   "outputs": [],
   "source": [
    "avg_price_4x4 = data[data['Drive wheels'] == '4x4']['Price'].mean()\n",
    "print(\"Average price of cars with a 'Drive wheels' value of '4x4':\", avg_price_4x4)\n"
   ]
  },
  {
   "cell_type": "markdown",
   "id": "c0609e3e",
   "metadata": {},
   "source": [
    "## What is the most common manufacturer for cars with a 'Category' value of 'Hatchback'?"
   ]
  },
  {
   "cell_type": "code",
   "execution_count": null,
   "id": "55af4047",
   "metadata": {},
   "outputs": [],
   "source": [
    "most_common_manufacturer_hatchback = data[data['Category'] == 'Hatchback']['Manufacturer'].mode()[0]\n",
    "print(\"Most common manufacturer for cars with a 'Category' value of 'Hatchback':\", most_common_manufacturer_hatchback)\n"
   ]
  },
  {
   "cell_type": "markdown",
   "id": "af52d6df",
   "metadata": {},
   "source": [
    "## What is the average price of cars with a 'Model' value of 'Corolla'?"
   ]
  },
  {
   "cell_type": "code",
   "execution_count": null,
   "id": "605cf803",
   "metadata": {},
   "outputs": [],
   "source": [
    "avg_price_corolla = data[data['Model'] == 'Corolla']['Price'].mean()\n",
    "print(\"Average price of cars with a 'Model' value of 'Corolla':\", avg_price_corolla)\n"
   ]
  },
  {
   "cell_type": "markdown",
   "id": "ba21acef",
   "metadata": {},
   "source": [
    "## What is the average mileage of cars with a 'Category' value of 'jeep'?"
   ]
  },
  {
   "cell_type": "code",
   "execution_count": null,
   "id": "9ec20ca3",
   "metadata": {},
   "outputs": [],
   "source": [
    "avg_mileage_jeep = data[data['Category'] == 'jeep']['Mileage'].mean()\n",
    "print(\"Average mileage of cars with a 'Category' value of 'jeep':\", avg_mileage_jeep)\n"
   ]
  },
  {
   "cell_type": "markdown",
   "id": "aa19d181",
   "metadata": {},
   "source": [
    "## What is the average price of cars with a 'Manufacturer' of 'Lexus' and 'Engine volume' greater than 3.5?"
   ]
  },
  {
   "cell_type": "code",
   "execution_count": null,
   "id": "8b4d1148",
   "metadata": {},
   "outputs": [],
   "source": [
    "avg_price_lexus_engine_gt_3_5 = data[(data['Manufacturer'] == 'Lexus') & (data['Engine volume'] > 3.5)]['Price'].mean()\n",
    "print(\"Average price of cars with a 'Manufacturer' of 'Lexus' and 'Engine volume' greater than 3.5:\", avg_price_lexus_engine_gt_3_5)\n"
   ]
  },
  {
   "cell_type": "markdown",
   "id": "6eb880b4",
   "metadata": {},
   "source": [
    "## How many cars have a 'Category' of 'Hatchback' and 'Airbags' greater than 4?"
   ]
  },
  {
   "cell_type": "code",
   "execution_count": null,
   "id": "ce61b8ac",
   "metadata": {},
   "outputs": [],
   "source": [
    "num_cars_hatchback_airbags_gt_4 = len(data[(data['Category'] == 'Hatchback') & (data['Airbags'] > 4)])\n",
    "print(\"Number of cars with a 'Category' of 'Hatchback' and 'Airbags' greater than 4:\", num_cars_hatchback_airbags_gt_4)\n"
   ]
  },
  {
   "cell_type": "markdown",
   "id": "49abaf9c",
   "metadata": {},
   "source": [
    "## What is the average mileage of cars with a 'Manufacturer' of 'Honda' and 'Model' of 'Civic'?"
   ]
  },
  {
   "cell_type": "code",
   "execution_count": null,
   "id": "f882a013",
   "metadata": {},
   "outputs": [],
   "source": [
    "avg_mileage_honda_civic = data[(data['Manufacturer'] == 'Honda') & (data['Model'] == 'Civic')]['Mileage'].mean()\n",
    "print(\"Average mileage of cars with a 'Manufacturer' of 'Honda' and 'Model' of 'Civic':\", avg_mileage_honda_civic)\n"
   ]
  },
  {
   "cell_type": "markdown",
   "id": "5d079442",
   "metadata": {},
   "source": [
    "## How many cars have a 'Manufacturer' of 'Ford' and 'Airbags' less than or equal to 4?"
   ]
  },
  {
   "cell_type": "code",
   "execution_count": null,
   "id": "5445153d",
   "metadata": {},
   "outputs": [],
   "source": [
    "num_cars_ford_airbags_lte_4 = len(data[(data['Manufacturer'] == 'Ford') & (data['Airbags'] <= 4)])\n",
    "print(\"Number of cars with a 'Manufacturer' of 'Ford' and 'Airbags' less than or equal to 4:\", num_cars_ford_airbags_lte_4)\n"
   ]
  },
  {
   "cell_type": "code",
   "execution_count": null,
   "id": "6c7ea572",
   "metadata": {},
   "outputs": [],
   "source": [
    "data.to_csv('car_price_prediction.csv', index=False)"
   ]
  },
  {
   "cell_type": "code",
   "execution_count": 137,
   "id": "4bdfb2dd",
   "metadata": {},
   "outputs": [],
   "source": [
    "# data['Price'] = data['Price'] \n",
    "# price_mean =data['Price'].mean()\n",
    "# Levy_mean\n",
    "\n",
    "# def price(a):\n",
    "#         if(a<11000):\n",
    "#             return data['Price'].mean()\n",
    "#         else:\n",
    "#             return(a)\n",
    "    \n",
    "# price(1)    \n",
    "\n",
    "#  data['Price'] = data['Price'].apply(price)\n",
    "    \n",
    "    \n",
    "# #import libraries\n",
    "# import numpy as np\n",
    "# mean = np.mean(data['Price'])\n",
    "# std = np.std(data['Price'])\n",
    "# print('mean of the price is', mean)\n",
    "# print('std. deviation is', std)\n",
    "# threshold = 3\n",
    "# outlier = []\n",
    "# for i in data['Price']:\n",
    "#     z = (i-mean)/std\n",
    "#     if z > threshold:\n",
    "#         outlier.append(i)\n",
    "# print('outlier in dataset is', outlier)"
   ]
  },
  {
   "cell_type": "code",
   "execution_count": null,
   "id": "2a969317",
   "metadata": {},
   "outputs": [],
   "source": []
  },
  {
   "cell_type": "code",
   "execution_count": null,
   "id": "ac8f4caf",
   "metadata": {},
   "outputs": [],
   "source": []
  }
 ],
 "metadata": {
  "kernelspec": {
   "display_name": "Python 3 (ipykernel)",
   "language": "python",
   "name": "python3"
  },
  "language_info": {
   "codemirror_mode": {
    "name": "ipython",
    "version": 3
   },
   "file_extension": ".py",
   "mimetype": "text/x-python",
   "name": "python",
   "nbconvert_exporter": "python",
   "pygments_lexer": "ipython3",
   "version": "3.10.9"
  }
 },
 "nbformat": 4,
 "nbformat_minor": 5
}
